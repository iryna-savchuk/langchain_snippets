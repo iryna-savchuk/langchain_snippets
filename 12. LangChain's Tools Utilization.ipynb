{
 "cells": [
  {
   "cell_type": "markdown",
   "id": "f1790f12",
   "metadata": {},
   "source": [
    "# LangChain's Tool Utilization: Examining Diverse Applications \n",
    "\n",
    "* [1. LangChain Agents and Toolkits](#toolkits)\n",
    "* [2. Google Search](#google)\n",
    "* [3. Requests](#requests)\n",
    "* [4. Python REPL](#repl)\n",
    "* [5. Wikipedia](#wiki)\n",
    "* [6. Wolfram Alpha](#wolfram)\n",
    "* [7. A Showcase of Collaboration](#collab)\n",
    "* [8. Additional Resources](#resources)"
   ]
  },
  {
   "cell_type": "code",
   "execution_count": 1,
   "id": "98da2a6b",
   "metadata": {},
   "outputs": [],
   "source": [
    "import os\n",
    "from keys import OPENAI_API_KEY, SERPAPI_API_KEY\n",
    "os.environ[\"OPENAI_API_KEY\"] = OPENAI_API_KEY"
   ]
  },
  {
   "cell_type": "markdown",
   "id": "2b1d6c3b",
   "metadata": {},
   "source": [
    "<hr>\n",
    "<a class=\"anchor\" id=\"toolkits\">\n",
    "    \n",
    "## 1. LangChain Agents and Toolkits\n",
    "    \n",
    "</a>\n",
    "\n",
    "Tools are modular, reusable components designed to accomplish specific tasks or provide answers to distinct types of questions. Here are several examples of tools in LangChain:\n",
    "- **Google Search**: uses the Google Search API to fetch relevant information from the web;\n",
    "- **Requests**: employs the popular Python library \"requests\" to interact with web services, access APIs, or obtain data from different online sources;\n",
    "- **Python REPL**(Read-Eval-Print Loop): allows users to execute Python code on-the-fly to perform calculations, manipulate data, or test algorithms. It serves as an interactive programming environment within the LangChain system.\n",
    "- **Wikipedia**: leverages the Wikipedia API to search and retrieve relevant information from the vast repository of knowledge on Wikipedia;\n",
    "- **Wolfram Alpha**: uses computational knowledge engine of Wolfram Alpha to answer complex questions, perform advanced calculations, or generate visual representations of data.\n",
    "\n",
    "\n",
    "In LangChain, an **Agent** is a bot that acts using natural language instructions and can use tools to answer its queries. An agent has access to a suite of tools and can decide which of these tools to call, depending on the user input.  \n",
    "\n",
    "To create an agent in LangChain, it is possible to use the `initialize_agent` function along with the `load_tools` function to prepare the tools the agent can use. \n",
    "\n",
    "Below, is an example of the usage of [SerpApi service](https://serpapi.com/) to fetch Google search results or the Python requests wrapper when required.  "
   ]
  },
  {
   "cell_type": "code",
   "execution_count": 2,
   "id": "a8a93291",
   "metadata": {},
   "outputs": [],
   "source": [
    "# !pip install langchain==0.0.208 deeplake openai tiktoken\n",
    "# !pip install google-search-results"
   ]
  },
  {
   "cell_type": "code",
   "execution_count": 3,
   "id": "9693e667",
   "metadata": {},
   "outputs": [],
   "source": [
    "from langchain import OpenAI\n",
    "from langchain.agents import load_tools\n",
    "from langchain.agents import initialize_agent\n",
    "from langchain.agents import AgentType\n",
    "\n",
    "llm = OpenAI(model_name=\"text-davinci-003\", temperature=0)\n",
    "\n",
    "tools = load_tools(['serpapi', 'requests_all'], \n",
    "                   llm=llm, \n",
    "                   serpapi_api_key=SERPAPI_API_KEY)\n",
    "\n",
    "agent = initialize_agent(tools, llm, agent=AgentType.ZERO_SHOT_REACT_DESCRIPTION, verbose=True)"
   ]
  },
  {
   "cell_type": "code",
   "execution_count": 4,
   "id": "0da90824",
   "metadata": {},
   "outputs": [
    {
     "name": "stdout",
     "output_type": "stream",
     "text": [
      "\n",
      "\n",
      "\u001b[1m> Entering new AgentExecutor chain...\u001b[0m\n",
      "\u001b[32;1m\u001b[1;3m Midjourney is a website, so I should look it up online.\n",
      "Action: Search\n",
      "Action Input: \"midjourney\"\u001b[0m\n",
      "Observation: \u001b[36;1m\u001b[1;3mMidjourney is a generative artificial intelligence program and service created and hosted by San Francisco-based independent research lab Midjourney, Inc. Midjourney generates images from natural language descriptions, called \"prompts\", similar to OpenAI's DALL-E and Stable Diffusion.\u001b[0m\n",
      "Thought:\u001b[32;1m\u001b[1;3m I now know the final answer\n",
      "Final Answer: Midjourney is a generative artificial intelligence program and service created and hosted by San Francisco-based independent research lab Midjourney, Inc. It generates images from natural language descriptions, called \"prompts\".\u001b[0m\n",
      "\n",
      "\u001b[1m> Finished chain.\u001b[0m\n"
     ]
    },
    {
     "data": {
      "text/plain": [
       "'Midjourney is a generative artificial intelligence program and service created and hosted by San Francisco-based independent research lab Midjourney, Inc. It generates images from natural language descriptions, called \"prompts\".'"
      ]
     },
     "execution_count": 4,
     "metadata": {},
     "output_type": "execute_result"
    }
   ],
   "source": [
    "# Run the agent\n",
    "agent.run(\"Tell me in two sentences, what is midjourney?\")"
   ]
  },
  {
   "cell_type": "markdown",
   "id": "d7940ef2",
   "metadata": {},
   "source": [
    "<hr>\n",
    "<a class=\"anchor\" id=\"google\">\n",
    "    \n",
    "## 2. Google Search\n",
    "    \n",
    "</a>\n",
    "\n",
    "\n",
    "LLMs possess knowledge only up to the point at which they were trained, leaving them unaware of any information beyond that timeframe. That is why integrating search engines as tools within the LangChain system brings a significant advantage. \n",
    "\n",
    "The LangChain library provides a Google Search API wrapper that can be used either as a **standalone utility or as a tool within an agent**."
   ]
  },
  {
   "cell_type": "code",
   "execution_count": 5,
   "id": "58319fed",
   "metadata": {},
   "outputs": [],
   "source": [
    "import os\n",
    "from keys import OPENAI_API_KEY, GOOGLE_API_KEY, GOOGLE_CSE_ID\n",
    "\n",
    "os.environ[\"OPENAI_API_KEY\"] = OPENAI_API_KEY\n",
    "os.environ[\"GOOGLE_API_KEY\"] = GOOGLE_API_KEY\n",
    "os.environ[\"GOOGLE_CSE_ID\"] = GOOGLE_CSE_ID"
   ]
  },
  {
   "cell_type": "code",
   "execution_count": 6,
   "id": "921886c6",
   "metadata": {},
   "outputs": [
    {
     "data": {
      "text/plain": [
       "[{'title': 'Lisbon, Portugal - Image of the Week - Earth Watching',\n",
       "  'link': 'https://earth.esa.int/web/earth-watching/image-of-the-week/content/-/article/lisbon-portugal-landsat/',\n",
       "  'snippet': 'Lisbon is the capital and the largest city of Portugal. It is the westernmost large city located in continental Europe, as well as its westernmost capital\\xa0...'},\n",
       " {'title': 'Portugal - Wikipedia',\n",
       "  'link': 'https://en.wikipedia.org/wiki/Portugal',\n",
       "  'snippet': 'Lisbon is the capital and largest city by population, being also the main spot for tourists alongside Porto and Algarve. Portuguese Republic. República\\xa0...'},\n",
       " {'title': 'Where is the Capital of Portugal and What Can I Do There?',\n",
       "  'link': 'https://www.pousadasofportugal.com/what-is-the-capital-of-portugal-and-what-can-i-do-there/',\n",
       "  'snippet': 'Lisbon, or Lisboa in Portuguese, is the capital of Portugal, and one of the oldest cities in the world, dated back to 1200 BC.'}]"
      ]
     },
     "execution_count": 6,
     "metadata": {},
     "output_type": "execute_result"
    }
   ],
   "source": [
    "# Option 1: as a standalone utility\n",
    "from langchain. utilities import GoogleSearchAPIWrapper\n",
    "\n",
    "search = GoogleSearchAPIWrapper()\n",
    "search.results(\"What is the capital of Portugal?\", 3)"
   ]
  },
  {
   "cell_type": "code",
   "execution_count": 7,
   "id": "7f55ba23",
   "metadata": {},
   "outputs": [
    {
     "name": "stdout",
     "output_type": "stream",
     "text": [
      "\n",
      "\n",
      "\u001b[1m> Entering new AgentExecutor chain...\u001b[0m\n",
      "\u001b[32;1m\u001b[1;3m I should research this online.\n",
      "Action: google_search\n",
      "Action Input: \"national drink in Portugal\"\u001b[0m\n",
      "Observation: \u001b[36;1m\u001b[1;3mJun 23, 2023 ... But of them all, ginjinha is without a doubt the national drink of Portugal. What drink is Porto famous for? It's right there in the name, Port ... It might even be a surprise to some that its slogan 'O licor de Portugal' claims to be the national liquor. Is this really the national drink of Portugal ... May 12, 2020 ... Many know Port wine, without a doubt, Portugal's most popular fortified wine. But, besides drinking the several varieties of existing Port wine ... Medronho (Aguardente de Medronhos) is a spirit that's made from Medronho berries, which grow wild throughout Portugal especially in the Algarve and Altentejo ... Caipirinha (Portuguese pronunciation: [kajpiˈɾĩɲɐ]) is Brazil's national cocktail, made with cachaça (sugarcane hard liquor), sugar, and lime. The drink is ... Dec 29, 2021 ... Ginjinha or just Ginja is a liqueur made from sour cherries that is linked to the towns of Óbidos, Alcobaça and Lisbon. It's an infusion of ... Opinions · Coffee, Portugal's Other National Drink. Jul 15, 2018 ... Fun fact: Caipirinha is Portugal's national cocktail made from Cachaca. Cachaca is a liquor made in Brazil, and as Brazil and Portugal share ... Licor Beirão is a very famous drink in Portugal, that can be found in almost every Portuguese restaurant and café. It is produced with a wide range of ... Singeverga is a Portuguese liqueur produced by the Benedictine monks at the Singeverga Monastery. The liqueur is distilled from a macerate of various ...\u001b[0m\n",
      "Thought:\u001b[32;1m\u001b[1;3m I now know the final answer.\n",
      "Final Answer: Ginjinha is the national drink of Portugal.\u001b[0m\n",
      "\n",
      "\u001b[1m> Finished chain.\u001b[0m\n",
      "{'input': 'What is the national drink in Portugal?', 'output': 'Ginjinha is the national drink of Portugal.'}\n"
     ]
    }
   ],
   "source": [
    "# Option 2: as a tool within an angent\n",
    "# (the agent will load the search results and provide them to the LLM to answer a question)\n",
    "\n",
    "from langchain.llms import OpenAI\n",
    "from langchain.agents import initialize_agent, load_tools, AgentType\n",
    "\n",
    "llm = OpenAI(model_name=\"text-davinci-003\", temperature=0) # LLM that will be used by the agent\n",
    "\n",
    "tools = load_tools([\"google-search\"])\n",
    "\n",
    "agent = initialize_agent(\n",
    "    tools,\n",
    "    llm,\n",
    "    agent=AgentType.ZERO_SHOT_REACT_DESCRIPTION,\n",
    "    verbose=True  \n",
    ")\n",
    "\n",
    "print( agent(\"What is the national drink in Portugal?\") )"
   ]
  },
  {
   "cell_type": "markdown",
   "id": "762dc1a9",
   "metadata": {},
   "source": [
    "<hr>\n",
    "<a class=\"anchor\" id=\"requests\">\n",
    "    \n",
    "## 3. Requests\n",
    "    \n",
    "</a>\n",
    "\n",
    "LangChain offers a convenient wrapper built around the Python Requests module to facilitate LLMs with the information available on specific websites.\n",
    "\n",
    "In the example below, a \"fake\" RESTful backend is setup using [mockapi.io](https://mockapi.io/):\n",
    "\n",
    "1. Go to mockapi.io and sign up for a free account;\n",
    "2. Once signed up, log in to your account;\n",
    "3. Click on \"New Project\" (the \"+\" icon) and give your project a name (no need to fill in any optional fields);\n",
    "4. Once the project is created, click on it to view the unique API endpoint;\n",
    "5. Click on \"New Resource\" to create a new resource for your API. For example, if you want to create an endpoint for users, you can name the resource \"users\";\n",
    "6. Define the schema for your resource. For instance, if you want each user to have an id, name, and email, you can use the following schema:\n",
    "\n",
    "<code>{\n",
    "    \"id\": \"integer\",\n",
    "    \"name\": \"string\",\n",
    "    \"email\": \"string\"\n",
    "}</code>"
   ]
  },
  {
   "cell_type": "code",
   "execution_count": 8,
   "id": "881c3f04",
   "metadata": {},
   "outputs": [],
   "source": [
    "# Using the LangChain tools to interact with our fake RESTful backend\n",
    "from langchain.agents import AgentType\n",
    "\n",
    "tools = load_tools([\"requests_all\"], llm=llm)\n",
    "\n",
    "agent = initialize_agent(\n",
    "    tools,\n",
    "    llm,\n",
    "    agent=AgentType.ZERO_SHOT_REACT_DESCRIPTION,\n",
    "    verbose=True\n",
    "  )"
   ]
  },
  {
   "cell_type": "code",
   "execution_count": 9,
   "id": "39549ed2",
   "metadata": {},
   "outputs": [
    {
     "name": "stdout",
     "output_type": "stream",
     "text": [
      "\n",
      "\n",
      "\u001b[1m> Entering new AgentExecutor chain...\u001b[0m\n",
      "\u001b[32;1m\u001b[1;3m I need to get the list of users from the URL\n",
      "Action: requests_get\n",
      "Action Input: https://644696c1ee791e1e2903b0bb.mockapi.io/user\u001b[0m\n",
      "Observation: \u001b[36;1m\u001b[1;3m[{\"createdAt\":\"2023-04-24T07:55:47.634Z\",\"name\":\"Mr. Kelly Balistreri\",\"avatar\":\"https://cloudflare-ipfs.com/ipfs/Qmd3W5DuhgHirLHGVixi6V76LhCkZUz6pnFt5AJBiyvHye/avatar/1244.jpg\",\"id\":\"1\"},{\"createdAt\":\"2023-04-24T03:54:44.108Z\",\"name\":\"Bradley Cronin\",\"avatar\":\"https://cloudflare-ipfs.com/ipfs/Qmd3W5DuhgHirLHGVixi6V76LhCkZUz6pnFt5AJBiyvHye/avatar/615.jpg\",\"id\":\"2\"},{\"createdAt\":\"2023-04-24T14:32:29.991Z\",\"name\":\"Jennifer Block Sr.\",\"avatar\":\"https://cloudflare-ipfs.com/ipfs/Qmd3W5DuhgHirLHGVixi6V76LhCkZUz6pnFt5AJBiyvHye/avatar/105.jpg\",\"id\":\"3\"},{\"createdAt\":\"2023-04-23T23:30:05.868Z\",\"name\":\"Nathaniel Toy V\",\"avatar\":\"https://cloudflare-ipfs.com/ipfs/Qmd3W5DuhgHirLHGVixi6V76LhCkZUz6pnFt5AJBiyvHye/avatar/533.jpg\",\"id\":\"4\"},{\"createdAt\":\"2023-04-24T03:01:15.797Z\",\"name\":\"Regina Veum\",\"avatar\":\"https://cloudflare-ipfs.com/ipfs/Qmd3W5DuhgHirLHGVixi6V76LhCkZUz6pnFt5AJBiyvHye/avatar/1047.jpg\",\"id\":\"5\"},{\"createdAt\":\"2023-04-23T18:38:07.884Z\",\"name\":\"Miss Jaime Aufderhar\",\"avatar\":\"https://cloudflare-ipfs.com/ipfs/Qmd3W5DuhgHirLHGVixi6V76LhCkZUz6pnFt5AJBiyvHye/avatar/979.jpg\",\"id\":\"6\"},{\"createdAt\":\"2023-04-24T14:23:26.777Z\",\"name\":\"Ginger Rolfson I\",\"avatar\":\"https://cloudflare-ipfs.com/ipfs/Qmd3W5DuhgHirLHGVixi6V76LhCkZUz6pnFt5AJBiyvHye/avatar/311.jpg\",\"id\":\"7\"},{\"createdAt\":\"2023-04-24T02:10:57.769Z\",\"name\":\"Kelli Braun\",\"avatar\":\"https://cloudflare-ipfs.com/ipfs/Qmd3W5DuhgHirLHGVixi6V76LhCkZUz6pnFt5AJBiyvHye/avatar/24.jpg\",\"id\":\"8\"},{\"createdAt\":\"2023-04-24T14:31:17.436Z\",\"name\":\"Mrs. Ralph Bergstrom\",\"avatar\":\"https://cloudflare-ipfs.com/ipfs/Qmd3W5DuhgHirLHGVixi6V76LhCkZUz6pnFt5AJBiyvHye/avatar/1219.jpg\",\"id\":\"9\"},{\"createdAt\":\"2023-04-23T16:19:28.348Z\",\"name\":\"Joshua Tromp IV\",\"avatar\":\"https://cloudflare-ipfs.com/ipfs/Qmd3W5DuhgHirLHGVixi6V76LhCkZUz6pnFt5AJBiyvHye/avatar/1242.jpg\",\"id\":\"10\"},{\"createdAt\":\"2023-04-24T02:22:40.398Z\",\"name\":\"Mrs. Alexandra Lueilwitz\",\"avatar\":\"https://cloudflare-ipfs.com/ipfs/Qmd3W5DuhgHirLHGVixi6V76LhCkZUz6pnFt5AJBiyvHye/avatar/778.jpg\",\"id\":\"11\"},{\"createdAt\":\"2023-04-24T07:45:30.139Z\",\"name\":\"Reginald Parisian\",\"avatar\":\"https://cloudflare-ipfs.com/ipfs/Qmd3W5DuhgHirLHGVixi6V76LhCkZUz6pnFt5AJBiyvHye/avatar/634.jpg\",\"id\":\"12\"},{\"createdAt\":\"2023-04-24T07:54:38.530Z\",\"name\":\"Leon Hayes\",\"avatar\":\"https://cloudflare-ipfs.com/ipfs/Qmd3W5DuhgHirLHGVixi6V76LhCkZUz6pnFt5AJBiyvHye/avatar/846.jpg\",\"id\":\"13\"},{\"createdAt\":\"2023-04-23T21:42:33.334Z\",\"name\":\"Earl Runolfsson Jr.\",\"avatar\":\"https://cloudflare-ipfs.com/ipfs/Qmd3W5DuhgHirLHGVixi6V76LhCkZUz6pnFt5AJBiyvHye/avatar/919.jpg\",\"id\":\"14\"},{\"createdAt\":\"2023-04-23T16:24:07.464Z\",\"name\":\"Mrs. Rosalie Goldner\",\"avatar\":\"https://cloudflare-ipfs.com/ipfs/Qmd3W5DuhgHirLHGVixi6V76LhCkZUz6pnFt5AJBiyvHye/avatar/1109.jpg\",\"id\":\"15\"},{\"createdAt\":\"2023-04-23T22:34:57.525Z\",\"name\":\"Cindy Koelpin\",\"avatar\":\"https://cloudflare-ipfs.com/ipfs/Qmd3W5DuhgHirLHGVixi6V76LhCkZUz6pnFt5AJBiyvHye/avatar/406.jpg\",\"id\":\"16\"},{\"createdAt\":\"2023-04-24T10:48:48.113Z\",\"name\":\"Woodrow Williamson\",\"avatar\":\"https://cloudflare-ipfs.com/ipfs/Qmd3W5DuhgHirLHGVixi6V76LhCkZUz6pnFt5AJBiyvHye/avatar/712.jpg\",\"id\":\"17\"},{\"createdAt\":\"2023-04-24T00:57:43.603Z\",\"name\":\"Kristi Satterfield\",\"avatar\":\"https://cloudflare-ipfs.com/ipfs/Qmd3W5DuhgHirLHGVixi6V76LhCkZUz6pnFt5AJBiyvHye/avatar/315.jpg\",\"id\":\"18\"},{\"createdAt\":\"2023-04-23T20:26:12.239Z\",\"name\":\"Miss Jill Brakus\",\"avatar\":\"https://cloudflare-ipfs.com/ipfs/Qmd3W5DuhgHirLHGVixi6V76LhCkZUz6pnFt5AJBiyvHye/avatar/1099.jpg\",\"id\":\"19\"},{\"createdAt\":\"2023-04-24T11:59:15.215Z\",\"name\":\"Christy Monahan\",\"avatar\":\"https://cloudflare-ipfs.com/ipfs/Qmd3W5DuhgHirLHGVixi6V76LhCkZUz6pnFt5AJBiyvHye/avatar/452.jpg\",\"id\":\"20\"},{\"createdAt\":\"2023-04-24T09:22:44.409Z\",\"name\":\"Latoya Hammes\",\"avatar\":\"https://cloudflare-ipfs.com/ipfs/Qmd3W5DuhgHirLHGVixi6V76LhCkZUz6pnFt5AJBiyvHye/avatar/747.jpg\",\"id\":\"21\"},{\"createdAt\":\"2023-04-23T19:27:58.947Z\",\"name\":\"Pat McGlynn\",\"avatar\":\"https://cloudflare-ipfs.com/ipfs/Qmd3W5DuhgHirLHGVixi6V76LhCkZUz6pnFt5AJBiyvHye/avatar/1133.jpg\",\"id\":\"22\"},{\"createdAt\":\"2023-04-23T16:44:33.052Z\",\"name\":\"Elizabeth Zboncak\",\"avatar\":\"https://cloudflare-ipfs.com/ipfs/Qmd3W5DuhgHirLHGVixi6V76LhCkZUz6pnFt5AJBiyvHye/avatar/569.jpg\",\"id\":\"23\"},{\"createdAt\":\"2023-04-24T10:05:19.598Z\",\"name\":\"Ms. Constance Hackett Jr.\",\"avatar\":\"https://cloudflare-ipfs.com/ipfs/Qmd3W5DuhgHirLHGVixi6V76LhCkZUz6pnFt5AJBiyvHye/avatar/1059.jpg\",\"id\":\"24\"},{\"createdAt\":\"2023-04-24T07:55:11.013Z\",\"name\":\"Irvin Cummerata\",\"avatar\":\"https://cloudflare-ipfs.com/ipfs/Qmd3W5DuhgHirLHGVixi6V76LhCkZUz6pnFt5AJBiyvHye/avatar/708.jpg\",\"id\":\"25\"},{\"createdAt\":\"2023-04-24T02:09:34.331Z\",\"name\":\"Jan Stanton\",\"avatar\":\"https://cloudflare-ipfs.com/ipfs/Qmd3W5DuhgHirLHGVixi6V76LhCkZUz6pnFt5AJBiyvHye/avatar/987.jpg\",\"id\":\"26\"},{\"createdAt\":\"2023-04-24T04:20:43.153Z\",\"name\":\"Mable Kuphal\",\"avatar\":\"https://cloudflare-ipfs.com/ipfs/Qmd3W5DuhgHirLHGVixi6V76LhCkZUz6pnFt5AJBiyvHye/avatar/444.jpg\",\"id\":\"27\"},{\"createdAt\":\"2023-04-24T06:10:38.771Z\",\"name\":\"Paula Kshlerin\",\"avatar\":\"https://cloudflare-ipfs.com/ipfs/Qmd3W5DuhgHirLHGVixi6V76LhCkZUz6pnFt5AJBiyvHye/avatar/1145.jpg\",\"id\":\"28\"},{\"createdAt\":\"2023-04-24T03:15:33.343Z\",\"name\":\"Roberto Blanda\",\"avatar\":\"https://cloudflare-ipfs.com/ipfs/Qmd3W5DuhgHirLHGVixi6V76LhCkZUz6pnFt5AJBiyvHye/avatar/575.jpg\",\"id\":\"29\"},{\"createdAt\":\"2023-04-23T18:20:58.632Z\",\"name\":\"Mr. Lisa Erdman\",\"avatar\":\"https://cloudflare-ipfs.com/ipfs/Qmd3W5DuhgHirLHGVixi6V76LhCkZUz6pnFt5AJBiyvHye/avatar/1172.jpg\",\"id\":\"30\"}]\u001b[0m\n",
      "Thought:\u001b[32;1m\u001b[1;3m I now know the list of users and can count them\n",
      "Final Answer: The total number of users is 30.\u001b[0m\n",
      "\n",
      "\u001b[1m> Finished chain.\u001b[0m\n"
     ]
    }
   ],
   "source": [
    "url = \"https://644696c1ee791e1e2903b0bb.mockapi.io/user\"\n",
    "response = agent.run(\"Get the list of users at \"+url+\" and tell me the total number of users\")"
   ]
  },
  {
   "cell_type": "markdown",
   "id": "8008ac8a",
   "metadata": {},
   "source": [
    "<hr>\n",
    "<a class=\"anchor\" id=\"repl\">\n",
    "    \n",
    "## 4. Python REPL\n",
    "    \n",
    "</a>\n",
    "\n",
    "Python REPL tool allows to execute Python code generated by the LLM (it can be useful for complex calculations since LLMs are not good at solving algorithmic and math problems, but are good at writing code)."
   ]
  },
  {
   "cell_type": "code",
   "execution_count": 10,
   "id": "9e891588",
   "metadata": {},
   "outputs": [],
   "source": [
    "# An Example of Python-REPL Tool Usage\n",
    "tools = load_tools([\"python_repl\"], llm=llm)\n",
    "\n",
    "agent = initialize_agent(\n",
    "    tools,\n",
    "    llm,\n",
    "    agent=AgentType.ZERO_SHOT_REACT_DESCRIPTION,\n",
    "    verbose=True\n",
    "  )"
   ]
  },
  {
   "cell_type": "code",
   "execution_count": 11,
   "id": "0b9deeeb",
   "metadata": {},
   "outputs": [
    {
     "name": "stdout",
     "output_type": "stream",
     "text": [
      "\n",
      "\n",
      "\u001b[1m> Entering new AgentExecutor chain...\u001b[0m\n"
     ]
    },
    {
     "name": "stderr",
     "output_type": "stream",
     "text": [
      "Python REPL can execute arbitrary code. Use with caution.\n"
     ]
    },
    {
     "name": "stdout",
     "output_type": "stream",
     "text": [
      "\u001b[32;1m\u001b[1;3m I need to generate a list of random strings, sort them, and then print the result\n",
      "Action: Python_REPL\n",
      "Action Input: \n",
      "import random\n",
      "\n",
      "my_list = []\n",
      "for i in range(30):\n",
      "    my_list.append(''.join(random.choices(string.ascii_lowercase, k=4)))\n",
      "\n",
      "my_list.sort()\n",
      "print(my_list)\u001b[0m\n",
      "Observation: \u001b[36;1m\u001b[1;3mNameError(\"name 'string' is not defined\")\u001b[0m\n",
      "Thought:\u001b[32;1m\u001b[1;3m I need to import the string module\n",
      "Action: Python_REPL\n",
      "Action Input: \n",
      "import random\n",
      "import string\n",
      "\n",
      "my_list = []\n",
      "for i in range(30):\n",
      "    my_list.append(''.join(random.choices(string.ascii_lowercase, k=4)))\n",
      "\n",
      "my_list.sort()\n",
      "print(my_list)\u001b[0m\n",
      "Observation: \u001b[36;1m\u001b[1;3m['amwg', 'boxn', 'ciny', 'coso', 'dfui', 'guoa', 'gzul', 'htqg', 'isxr', 'iweo', 'lrzx', 'mclp', 'mpxn', 'nkuh', 'ohee', 'plpk', 'prmc', 'qvgt', 'raqp', 'shvw', 'skvr', 'twyv', 'ucpm', 'vcds', 'vozp', 'vtkg', 'xpyp', 'xyok', 'xzmw', 'xzvx']\n",
      "\u001b[0m\n",
      "Thought:\u001b[32;1m\u001b[1;3m I now know the final answer\n",
      "Final Answer: ['amwg', 'boxn', 'ciny', 'coso', 'dfui', 'guoa', 'gzul', 'htqg', 'isxr', 'iweo', 'lrzx', 'mclp', 'mpxn', 'nkuh', 'ohee', 'plpk', 'prmc', 'qvgt', 'raqp', 'shvw', 'skvr', 'twyv', 'ucpm', 'vcds', 'vozp', 'vtkg', 'xpyp', 'xyok', 'xzmw', 'xzvx']\u001b[0m\n",
      "\n",
      "\u001b[1m> Finished chain.\u001b[0m\n",
      "['amwg', 'boxn', 'ciny', 'coso', 'dfui', 'guoa', 'gzul', 'htqg', 'isxr', 'iweo', 'lrzx', 'mclp', 'mpxn', 'nkuh', 'ohee', 'plpk', 'prmc', 'qvgt', 'raqp', 'shvw', 'skvr', 'twyv', 'ucpm', 'vcds', 'vozp', 'vtkg', 'xpyp', 'xyok', 'xzmw', 'xzvx']\n"
     ]
    }
   ],
   "source": [
    "print( agent.run(\"Create a list of random strings containing 4 letters, list should contain 30 examples, and sort the list alphabetically\") )"
   ]
  },
  {
   "cell_type": "markdown",
   "id": "ad8baad2",
   "metadata": {},
   "source": [
    "<hr>\n",
    "<a class=\"anchor\" id=\"wiki\">\n",
    "    \n",
    "## 5. Wikipedia\n",
    "    \n",
    "</a>\n",
    "\n",
    "The Wikipedia API tool in LangChain allows LLMs to interact with the Wikipedia API to fetch information and use it to answer questions. "
   ]
  },
  {
   "cell_type": "code",
   "execution_count": 13,
   "id": "a71252e7",
   "metadata": {},
   "outputs": [],
   "source": [
    "#!pip install Wikipedia"
   ]
  },
  {
   "cell_type": "code",
   "execution_count": 14,
   "id": "10b49e90",
   "metadata": {},
   "outputs": [],
   "source": [
    "tools = load_tools([\"wikipedia\"])\n",
    "\n",
    "agent = initialize_agent(\n",
    "    tools,\n",
    "    llm,\n",
    "    agent=AgentType.ZERO_SHOT_REACT_DESCRIPTION,\n",
    "    verbose=True  \n",
    ")"
   ]
  },
  {
   "cell_type": "code",
   "execution_count": 15,
   "id": "91e13c2e",
   "metadata": {},
   "outputs": [
    {
     "name": "stdout",
     "output_type": "stream",
     "text": [
      "\n",
      "\n",
      "\u001b[1m> Entering new AgentExecutor chain...\u001b[0m\n",
      "\u001b[32;1m\u001b[1;3m I should look up information about Zelenskyy\n",
      "Action: Wikipedia\n",
      "Action Input: Volodymyr Zelenskyy\u001b[0m\n",
      "Observation: \u001b[36;1m\u001b[1;3mPage: Volodymyr Zelenskyy\n",
      "Summary: Volodymyr Oleksandrovych Zelenskyy (also romanized as Zelensky or Zelenskiy; born 25 January 1978) is a Ukrainian politician and former comedian and actor who is the sixth and current president of Ukraine since 2019.\n",
      "Born to a Ukrainian Jewish family, Zelenskyy grew up as a native Russian speaker in Kryvyi Rih, a major city of Dnipropetrovsk Oblast in central Ukraine. Prior to his acting career, he obtained a degree in law from the Kyiv National Economic University. He then pursued a career in comedy and created the production company Kvartal 95, which produced films, cartoons, and TV shows including the TV series Servant of the People, in which Zelenskyy played a fictional Ukrainian president. The series aired from 2015 to 2019 and was immensely popular. A political party with the same name as the TV show was created in March 2018 by employees of Kvartal 95.\n",
      "Zelenskyy announced his candidacy in the 2019 presidential election on the evening of 31 December 2018, alongside the New Year's Eve address of then-president Petro Poroshenko on the TV channel 1+1. A political outsider, he had already become one of the frontrunners in opinion polls for the election. He won the election with 73.23 percent of the vote in the second round, defeating Poroshenko. He has positioned himself as an anti-establishment and anti-corruption figure. As president, Zelenskyy has been a proponent of e-government and of unity between the Ukrainian- and Russian-speaking parts of the country's population.: 11–13  His communication style makes extensive use of social media, particularly Instagram.: 7–10  His party won a landslide victory in the snap legislative election held shortly after his inauguration as president. During the first two years of his administration, Zelenskyy oversaw the lifting of legal immunity for members of parliament (the Verkhovna Rada), the country's response to the COVID-19 pandemic and subsequent economic recession, and some limited progress in tackling corruption in Ukraine.During his presidential campaign, Zelenskyy promised to end Ukraine's protracted conflict with Russia, and he has attempted to engage in dialogue with Russian president Vladimir Putin. His administration faced an escalation of tensions with Russia in 2021, culminating in the launch of an ongoing full-scale Russian invasion in February 2022. Zelenskyy's strategy during the Russian military buildup was to calm the Ukrainian populace and assure the international community that Ukraine was not seeking to retaliate. He initially distanced himself from warnings of an imminent war, while also calling for security guarantees and military support from NATO to \"withstand\" the threat. After the start of the invasion, Zelenskyy declared martial law across Ukraine and a general mobilisation of the armed forces. His leadership during the crisis has won him widespread international praise, and he has been described as a symbol of the Ukrainian resistance. Zelenskyy was named the Time Person of the Year for 2022, and opinion polls in Ukraine have ranked him as Ukraine's greatest president.\n",
      "\n",
      "\n",
      "\n",
      "Page: Assassination attempts on Volodymyr Zelenskyy\n",
      "Summary: According to Ukrainian government officials and news sources, President of Ukraine Volodymyr Zelenskyy has survived a number of assassination and kidnapping attempts by Russian or pro-Russian agents during the Russian invasion of Ukraine.\n",
      "\n",
      "Page: Oleksandr Zelenskyy\n",
      "Summary: Oleksandr Semenovych Zelenskyy (Ukrainian: Олександр Семенович Зеленський; born 23 December 1947) is a Ukrainian mining scientist and mathematician who specializes in the automation of geological and surveying support. He is a professor and a doctor of technical sciences. Zelenskyy has been the head of the Kryvyi Rih State University's Department of Cybernetics and Computing Hardware since 1995. His son, Volodymyr Zelenskyy is currently serving as the 6th President of Ukraine.\u001b[0m\n",
      "Thought:\u001b[32;1m\u001b[1;3m I now know the final answer\n",
      "Final Answer: Volodymyr Zelenskyy is a Ukrainian politician and former comedian and actor who is the sixth and current president of Ukraine since 2019. He is known for his anti-establishment and anti-corruption stance, his communication style which makes extensive use of social media, and his attempts to engage in dialogue with Russian president Vladimir Putin. He has also survived a number of assassination and kidnapping attempts by Russian or pro-Russian agents during the Russian invasion of Ukraine. His father is Oleksandr Zelenskyy, a Ukrainian mining scientist and mathematician.\u001b[0m\n",
      "\n",
      "\u001b[1m> Finished chain.\u001b[0m\n",
      "Volodymyr Zelenskyy is a Ukrainian politician and former comedian and actor who is the sixth and current president of Ukraine since 2019. He is known for his anti-establishment and anti-corruption stance, his communication style which makes extensive use of social media, and his attempts to engage in dialogue with Russian president Vladimir Putin. He has also survived a number of assassination and kidnapping attempts by Russian or pro-Russian agents during the Russian invasion of Ukraine. His father is Oleksandr Zelenskyy, a Ukrainian mining scientist and mathematician.\n"
     ]
    }
   ],
   "source": [
    "print(agent.run(\"What is Zelenskyy known for\"))"
   ]
  },
  {
   "cell_type": "markdown",
   "id": "2d880562",
   "metadata": {},
   "source": [
    "<hr>\n",
    "<a class=\"anchor\" id=\"wolfram\">\n",
    "    \n",
    "## 6. Wolfram Alpha\n",
    "    \n",
    "</a>"
   ]
  },
  {
   "cell_type": "code",
   "execution_count": null,
   "id": "febf8973",
   "metadata": {},
   "outputs": [],
   "source": []
  },
  {
   "cell_type": "markdown",
   "id": "7cb4a901",
   "metadata": {},
   "source": [
    "<hr>\n",
    "<a class=\"anchor\" id=\"collab\">\n",
    "    \n",
    "## 7. A Showcase of Collaboration\n",
    "    \n",
    "</a>"
   ]
  },
  {
   "cell_type": "code",
   "execution_count": null,
   "id": "870a63ab",
   "metadata": {},
   "outputs": [],
   "source": []
  },
  {
   "cell_type": "markdown",
   "id": "16f43bd1",
   "metadata": {},
   "source": [
    "<hr>\n",
    "<a class=\"anchor\" id=\"resources\">\n",
    "    \n",
    "## 8. Additional Resources\n",
    "    \n",
    "</a>"
   ]
  },
  {
   "cell_type": "markdown",
   "id": "db56b7c6",
   "metadata": {},
   "source": [
    "- [SerpApi service](https://serpapi.com/)\n",
    "- [How to get Search Engine ID](https://help.elfsight.com/article/331-how-to-get-search-engine-id)\n",
    "- [Setting up Google API keys](https://support.google.com/googleapi/answer/6158862?hl=en)"
   ]
  },
  {
   "cell_type": "code",
   "execution_count": null,
   "id": "9d698aac",
   "metadata": {},
   "outputs": [],
   "source": []
  }
 ],
 "metadata": {
  "kernelspec": {
   "display_name": "langenv",
   "language": "python",
   "name": "langenv"
  },
  "language_info": {
   "codemirror_mode": {
    "name": "ipython",
    "version": 3
   },
   "file_extension": ".py",
   "mimetype": "text/x-python",
   "name": "python",
   "nbconvert_exporter": "python",
   "pygments_lexer": "ipython3",
   "version": "3.10.4"
  }
 },
 "nbformat": 4,
 "nbformat_minor": 5
}
