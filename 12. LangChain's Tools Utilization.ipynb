{
 "cells": [
  {
   "cell_type": "markdown",
   "id": "f1790f12",
   "metadata": {},
   "source": [
    "# LangChain's Tool Utilization: Examining Diverse Applications \n",
    "\n",
    "* [1. LangChain Agents and Toolkits](#toolkits)\n",
    "* [2. Google Search](#google)\n",
    "* [3. Requests](#requests)\n",
    "* [4. Python REPL](#repl)\n",
    "* [5. Wikipedia](#wiki)\n",
    "* [6. Wolfram Alpha](#wolfram)\n",
    "* [7. A Showcase of Collaboration](#collab)\n",
    "* [8. Additional Resources](#resources)"
   ]
  },
  {
   "cell_type": "code",
   "execution_count": 1,
   "id": "98da2a6b",
   "metadata": {},
   "outputs": [],
   "source": [
    "import os\n",
    "from keys import OPENAI_API_KEY, SERPAPI_API_KEY\n",
    "os.environ[\"OPENAI_API_KEY\"] = OPENAI_API_KEY"
   ]
  },
  {
   "cell_type": "markdown",
   "id": "2b1d6c3b",
   "metadata": {},
   "source": [
    "<hr>\n",
    "<a class=\"anchor\" id=\"toolkits\">\n",
    "    \n",
    "## 1. LangChain Agents and Toolkits\n",
    "    \n",
    "</a>\n",
    "\n",
    "Tools are modular, reusable components designed to accomplish specific tasks or provide answers to distinct types of questions. Here are several examples of tools in LangChain:\n",
    "- **Google Search**: uses the Google Search API to fetch relevant information from the web;\n",
    "- **Requests**: employs the popular Python library \"requests\" to interact with web services, access APIs, or obtain data from different online sources;\n",
    "- **Python REPL**(Read-Eval-Print Loop): allows users to execute Python code on-the-fly to perform calculations, manipulate data, or test algorithms. It serves as an interactive programming environment within the LangChain system.\n",
    "- **Wikipedia**: leverages the Wikipedia API to search and retrieve relevant information from the vast repository of knowledge on Wikipedia;\n",
    "- **Wolfram Alpha**: uses computational knowledge engine of Wolfram Alpha to answer complex questions, perform advanced calculations, or generate visual representations of data.\n",
    "\n",
    "\n",
    "In LangChain, an **Agent** is a bot that acts using natural language instructions and can use tools to answer its queries. An agent has access to a suite of tools and can decide which of these tools to call, depending on the user input.  \n",
    "\n",
    "To create an agent in LangChain, it is possible to use the `initialize_agent` function along with the `load_tools` function to prepare the tools the agent can use. \n",
    "\n",
    "Below, is an example of the usage of [SerpApi service](https://serpapi.com/) to fetch Google search results or the Python requests wrapper when required.  "
   ]
  },
  {
   "cell_type": "code",
   "execution_count": 2,
   "id": "a8a93291",
   "metadata": {},
   "outputs": [],
   "source": [
    "# !pip install langchain==0.0.208 deeplake openai tiktoken\n",
    "# !pip install google-search-results"
   ]
  },
  {
   "cell_type": "code",
   "execution_count": 3,
   "id": "9693e667",
   "metadata": {},
   "outputs": [],
   "source": [
    "from langchain import OpenAI\n",
    "from langchain.agents import load_tools\n",
    "from langchain.agents import initialize_agent\n",
    "from langchain.agents import AgentType\n",
    "\n",
    "llm = OpenAI(model_name=\"text-davinci-003\", temperature=0)\n",
    "\n",
    "tools = load_tools(['serpapi', 'requests_all'], \n",
    "                   llm=llm, \n",
    "                   serpapi_api_key=SERPAPI_API_KEY)\n",
    "\n",
    "agent = initialize_agent(tools, llm, agent=AgentType.ZERO_SHOT_REACT_DESCRIPTION, verbose=True)"
   ]
  },
  {
   "cell_type": "code",
   "execution_count": 4,
   "id": "0da90824",
   "metadata": {},
   "outputs": [
    {
     "name": "stdout",
     "output_type": "stream",
     "text": [
      "\n",
      "\n",
      "\u001b[1m> Entering new AgentExecutor chain...\u001b[0m\n",
      "\u001b[32;1m\u001b[1;3m Midjourney is a website, so I should look it up online.\n",
      "Action: Search\n",
      "Action Input: \"midjourney\"\u001b[0m\n",
      "Observation: \u001b[36;1m\u001b[1;3mMidjourney is a generative artificial intelligence program and service created and hosted by San Francisco-based independent research lab Midjourney, Inc. Midjourney generates images from natural language descriptions, called \"prompts\", similar to OpenAI's DALL-E and Stable Diffusion.\u001b[0m\n",
      "Thought:\u001b[32;1m\u001b[1;3m I now know the final answer\n",
      "Final Answer: Midjourney is a generative artificial intelligence program and service created and hosted by San Francisco-based independent research lab Midjourney, Inc. It generates images from natural language descriptions, called \"prompts\".\u001b[0m\n",
      "\n",
      "\u001b[1m> Finished chain.\u001b[0m\n"
     ]
    },
    {
     "data": {
      "text/plain": [
       "'Midjourney is a generative artificial intelligence program and service created and hosted by San Francisco-based independent research lab Midjourney, Inc. It generates images from natural language descriptions, called \"prompts\".'"
      ]
     },
     "execution_count": 4,
     "metadata": {},
     "output_type": "execute_result"
    }
   ],
   "source": [
    "# Run the agent\n",
    "agent.run(\"Tell me in two sentences, what is midjourney?\")"
   ]
  },
  {
   "cell_type": "markdown",
   "id": "d7940ef2",
   "metadata": {},
   "source": [
    "<hr>\n",
    "<a class=\"anchor\" id=\"google\">\n",
    "    \n",
    "## 2. Google Search\n",
    "    \n",
    "</a>\n",
    "\n",
    "\n",
    "LLMs possess knowledge only up to the point at which they were trained, leaving them unaware of any information beyond that timeframe. That is why integrating search engines as tools within the LangChain system brings a significant advantage. \n",
    "\n",
    "The LangChain library provides a Google Search API wrapper that can be used either as a **standalone utility or as a tool within an agent**."
   ]
  },
  {
   "cell_type": "code",
   "execution_count": 5,
   "id": "58319fed",
   "metadata": {},
   "outputs": [],
   "source": [
    "import os\n",
    "from keys import OPENAI_API_KEY, GOOGLE_API_KEY, GOOGLE_CSE_ID\n",
    "\n",
    "os.environ[\"OPENAI_API_KEY\"] = OPENAI_API_KEY\n",
    "os.environ[\"GOOGLE_API_KEY\"] = GOOGLE_API_KEY\n",
    "os.environ[\"GOOGLE_CSE_ID\"] = GOOGLE_CSE_ID"
   ]
  },
  {
   "cell_type": "code",
   "execution_count": 6,
   "id": "6e30b0ff",
   "metadata": {},
   "outputs": [
    {
     "data": {
      "text/plain": [
       "[{'title': 'Lisbon, Portugal - Image of the Week - Earth Watching',\n",
       "  'link': 'https://earth.esa.int/web/earth-watching/image-of-the-week/content/-/article/lisbon-portugal-landsat/',\n",
       "  'snippet': 'Lisbon is the capital and the largest city of Portugal. It is the westernmost large city located in continental Europe, as well as its westernmost capital\\xa0...'},\n",
       " {'title': 'Portugal - Wikipedia',\n",
       "  'link': 'https://en.wikipedia.org/wiki/Portugal',\n",
       "  'snippet': 'Lisbon is the capital and largest city by population, being also the main spot for tourists alongside Porto and Algarve. Portuguese Republic. República\\xa0...'},\n",
       " {'title': 'Where is the Capital of Portugal and What Can I Do There?',\n",
       "  'link': 'https://www.pousadasofportugal.com/what-is-the-capital-of-portugal-and-what-can-i-do-there/',\n",
       "  'snippet': 'Lisbon, or Lisboa in Portuguese, is the capital of Portugal, and one of the oldest cities in the world, dated back to 1200 BC.'}]"
      ]
     },
     "execution_count": 6,
     "metadata": {},
     "output_type": "execute_result"
    }
   ],
   "source": [
    "# Option 1: as a standalone utility\n",
    "from langchain. utilities import GoogleSearchAPIWrapper\n",
    "\n",
    "search = GoogleSearchAPIWrapper()\n",
    "search.results(\"What is the capital of Portugal?\", 3)"
   ]
  },
  {
   "cell_type": "code",
   "execution_count": null,
   "id": "d0f8cee0",
   "metadata": {},
   "outputs": [],
   "source": [
    "# Option 2: as a tool within an angent\n",
    "# (the agent will load the search results and provide them to the LLM to answer a question)\n",
    "\n",
    "from langchain.llms import OpenAI\n",
    "from langchain.agents import initialize_agent, load_tools, AgentType\n",
    "\n",
    "llm = OpenAI(model_name=\"text-davinci-003\", temperature=0) # LLM that will be used by the agent\n",
    "\n",
    "tools = load_tools([\"google-search\"])\n",
    "\n",
    "agent = initialize_agent(\n",
    "    tools,\n",
    "    llm,\n",
    "    agent=AgentType.ZERO_SHOT_REACT_DESCRIPTION,\n",
    "    verbose=True  \n",
    ")\n",
    "\n",
    "print( agent(\"What is the national drink in Spain?\") )"
   ]
  },
  {
   "cell_type": "markdown",
   "id": "762dc1a9",
   "metadata": {},
   "source": [
    "<hr>\n",
    "<a class=\"anchor\" id=\"requests\">\n",
    "    \n",
    "## 3. Requests\n",
    "    \n",
    "</a>"
   ]
  },
  {
   "cell_type": "code",
   "execution_count": null,
   "id": "881c3f04",
   "metadata": {},
   "outputs": [],
   "source": []
  },
  {
   "cell_type": "markdown",
   "id": "8008ac8a",
   "metadata": {},
   "source": [
    "<hr>\n",
    "<a class=\"anchor\" id=\"repl\">\n",
    "    \n",
    "## 4. Python REPL\n",
    "    \n",
    "</a>"
   ]
  },
  {
   "cell_type": "code",
   "execution_count": null,
   "id": "9e891588",
   "metadata": {},
   "outputs": [],
   "source": []
  },
  {
   "cell_type": "markdown",
   "id": "ad8baad2",
   "metadata": {},
   "source": [
    "<hr>\n",
    "<a class=\"anchor\" id=\"wiki\">\n",
    "    \n",
    "## 5. Wikipedia\n",
    "    \n",
    "</a>"
   ]
  },
  {
   "cell_type": "code",
   "execution_count": null,
   "id": "10b49e90",
   "metadata": {},
   "outputs": [],
   "source": []
  },
  {
   "cell_type": "markdown",
   "id": "2d880562",
   "metadata": {},
   "source": [
    "<hr>\n",
    "<a class=\"anchor\" id=\"wolfram\">\n",
    "    \n",
    "## 6. Wolfram Alpha\n",
    "    \n",
    "</a>"
   ]
  },
  {
   "cell_type": "code",
   "execution_count": null,
   "id": "febf8973",
   "metadata": {},
   "outputs": [],
   "source": []
  },
  {
   "cell_type": "markdown",
   "id": "7cb4a901",
   "metadata": {},
   "source": [
    "<hr>\n",
    "<a class=\"anchor\" id=\"collab\">\n",
    "    \n",
    "## 7. A Showcase of Collaboration\n",
    "    \n",
    "</a>"
   ]
  },
  {
   "cell_type": "code",
   "execution_count": null,
   "id": "870a63ab",
   "metadata": {},
   "outputs": [],
   "source": []
  },
  {
   "cell_type": "markdown",
   "id": "16f43bd1",
   "metadata": {},
   "source": [
    "<hr>\n",
    "<a class=\"anchor\" id=\"resources\">\n",
    "    \n",
    "## 8. Additional Resources\n",
    "    \n",
    "</a>"
   ]
  },
  {
   "cell_type": "markdown",
   "id": "db56b7c6",
   "metadata": {},
   "source": [
    "- [SerpApi service](https://serpapi.com/)\n",
    "- [How to get Search Engine ID](https://help.elfsight.com/article/331-how-to-get-search-engine-id)\n",
    "- [Setting up Google API keys](https://support.google.com/googleapi/answer/6158862?hl=en)"
   ]
  },
  {
   "cell_type": "code",
   "execution_count": null,
   "id": "9d698aac",
   "metadata": {},
   "outputs": [],
   "source": []
  }
 ],
 "metadata": {
  "kernelspec": {
   "display_name": "langenv",
   "language": "python",
   "name": "langenv"
  },
  "language_info": {
   "codemirror_mode": {
    "name": "ipython",
    "version": 3
   },
   "file_extension": ".py",
   "mimetype": "text/x-python",
   "name": "python",
   "nbconvert_exporter": "python",
   "pygments_lexer": "ipython3",
   "version": "3.10.4"
  }
 },
 "nbformat": 4,
 "nbformat_minor": 5
}
