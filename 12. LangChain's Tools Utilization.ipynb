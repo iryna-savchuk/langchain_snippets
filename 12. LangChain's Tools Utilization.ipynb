{
 "cells": [
  {
   "cell_type": "markdown",
   "id": "f1790f12",
   "metadata": {},
   "source": [
    "# LangChain's Tool Utilization: Examining Diverse Applications through Illustrative Scenarios \n",
    "\n",
    "* [1. LangChain Agents and Toolkits](#toolkits)\n",
    "* [2. Google Search](#google)\n",
    "* [3. Requests](#requests)\n",
    "* [4. Python REPL](#repl)\n",
    "* [5. Wikipedia](#wiki)\n",
    "* [6. Wolfram Alpha](#wolfram)\n",
    "* [7. A Showcase of Collaboration](#collab)\n",
    "* [8. Additional Resources](#resources)"
   ]
  },
  {
   "cell_type": "code",
   "execution_count": 1,
   "id": "98da2a6b",
   "metadata": {},
   "outputs": [],
   "source": [
    "import os\n",
    "from keys import OPENAI_API_KEY, SERPAPI_API_KEY\n",
    "os.environ[\"OPENAI_API_KEY\"] = OPENAI_API_KEY"
   ]
  },
  {
   "cell_type": "markdown",
   "id": "2b1d6c3b",
   "metadata": {},
   "source": [
    "<hr>\n",
    "<a class=\"anchor\" id=\"toolkits\">\n",
    "    \n",
    "## 1. LangChain Agents and Toolkits\n",
    "    \n",
    "</a>\n",
    "\n",
    "Tools are modular, reusable components designed to accomplish specific tasks or provide answers to distinct types of questions. Here are several examples of tools in LangChain:\n",
    "- **Google Search**: uses the Google Search API to fetch relevant information from the web;\n",
    "- **Requests**: employs the popular Python library \"requests\" to interact with web services, access APIs, or obtain data from different online sources;\n",
    "- **Python REPL**(Read-Eval-Print Loop): allows users to execute Python code on-the-fly to perform calculations, manipulate data, or test algorithms. It serves as an interactive programming environment within the LangChain system.\n",
    "- **Wikipedia**: leverages the Wikipedia API to search and retrieve relevant information from the vast repository of knowledge on Wikipedia;\n",
    "- **Wolfram Alpha**: uses computational knowledge engine of Wolfram Alpha to answer complex questions, perform advanced calculations, or generate visual representations of data.\n",
    "\n",
    "\n",
    "In LangChain, an **Agent** is a bot that acts using natural language instructions and can use tools to answer its queries. An agent has access to a suite of tools and can decide which of these tools to call, depending on the user input.  \n",
    "\n",
    "To create an agent in LangChain, it is possible to use the `initialize_agent` function along with the `load_tools` function to prepare the tools the agent can use. \n",
    "\n",
    "Below, is an example of the usage of [SerpApi service](https://serpapi.com/) to fetch Google search results or the Python requests wrapper when required.  "
   ]
  },
  {
   "cell_type": "code",
   "execution_count": 2,
   "id": "1a7012c3",
   "metadata": {},
   "outputs": [],
   "source": [
    "# !pip install langchain==0.0.208 deeplake openai tiktoken\n",
    "# !pip install google-search-results"
   ]
  },
  {
   "cell_type": "code",
   "execution_count": 3,
   "id": "6bbc25b3",
   "metadata": {},
   "outputs": [],
   "source": [
    "from langchain import OpenAI\n",
    "from langchain.agents import load_tools\n",
    "from langchain.agents import initialize_agent\n",
    "from langchain.agents import AgentType\n",
    "\n",
    "llm = OpenAI(model_name=\"text-davinci-003\", temperature=0)\n",
    "\n",
    "tools = load_tools(['serpapi', 'requests_all'], \n",
    "                   llm=llm, \n",
    "                   serpapi_api_key=SERPAPI_API_KEY)\n",
    "\n",
    "agent = initialize_agent(tools, llm, agent=AgentType.ZERO_SHOT_REACT_DESCRIPTION, verbose=True)"
   ]
  },
  {
   "cell_type": "code",
   "execution_count": 5,
   "id": "5ccf16d0",
   "metadata": {},
   "outputs": [
    {
     "name": "stdout",
     "output_type": "stream",
     "text": [
      "\n",
      "\n",
      "\u001b[1m> Entering new AgentExecutor chain...\u001b[0m\n",
      "\u001b[32;1m\u001b[1;3m Midjourney is a website, so I should look it up online.\n",
      "Action: Search\n",
      "Action Input: \"midjourney\"\u001b[0m\n",
      "Observation: \u001b[36;1m\u001b[1;3mMidjourney is a generative artificial intelligence program and service created and hosted by San Francisco-based independent research lab Midjourney, Inc. Midjourney generates images from natural language descriptions, called \"prompts\", similar to OpenAI's DALL-E and Stable Diffusion.\u001b[0m\n",
      "Thought:\u001b[32;1m\u001b[1;3m I now know the final answer\n",
      "Final Answer: Midjourney is a generative artificial intelligence program and service created and hosted by San Francisco-based independent research lab Midjourney, Inc. It generates images from natural language descriptions, called \"prompts\".\u001b[0m\n",
      "\n",
      "\u001b[1m> Finished chain.\u001b[0m\n"
     ]
    },
    {
     "data": {
      "text/plain": [
       "'Midjourney is a generative artificial intelligence program and service created and hosted by San Francisco-based independent research lab Midjourney, Inc. It generates images from natural language descriptions, called \"prompts\".'"
      ]
     },
     "execution_count": 5,
     "metadata": {},
     "output_type": "execute_result"
    }
   ],
   "source": [
    "# Run the agent\n",
    "agent.run(\"Tell me in two sentences, what is midjourney?\")"
   ]
  },
  {
   "cell_type": "markdown",
   "id": "e487b6db",
   "metadata": {},
   "source": [
    "<hr>\n",
    "<a class=\"anchor\" id=\"google\">\n",
    "    \n",
    "## 2. Google Search\n",
    "    \n",
    "</a>"
   ]
  },
  {
   "cell_type": "code",
   "execution_count": null,
   "id": "cabf1f82",
   "metadata": {},
   "outputs": [],
   "source": []
  },
  {
   "cell_type": "markdown",
   "id": "e8a9302f",
   "metadata": {},
   "source": [
    "<hr>\n",
    "<a class=\"anchor\" id=\"requests\">\n",
    "    \n",
    "## 3. Requests\n",
    "    \n",
    "</a>"
   ]
  },
  {
   "cell_type": "code",
   "execution_count": null,
   "id": "727be35f",
   "metadata": {},
   "outputs": [],
   "source": []
  },
  {
   "cell_type": "markdown",
   "id": "e1dd40a1",
   "metadata": {},
   "source": [
    "<hr>\n",
    "<a class=\"anchor\" id=\"repl\">\n",
    "    \n",
    "## 4. Python REPL\n",
    "    \n",
    "</a>"
   ]
  },
  {
   "cell_type": "code",
   "execution_count": null,
   "id": "af9dd950",
   "metadata": {},
   "outputs": [],
   "source": []
  },
  {
   "cell_type": "markdown",
   "id": "3d0ae8ca",
   "metadata": {},
   "source": [
    "<hr>\n",
    "<a class=\"anchor\" id=\"wiki\">\n",
    "    \n",
    "## 5. Wikipedia\n",
    "    \n",
    "</a>"
   ]
  },
  {
   "cell_type": "code",
   "execution_count": null,
   "id": "0b543dc1",
   "metadata": {},
   "outputs": [],
   "source": []
  },
  {
   "cell_type": "markdown",
   "id": "71def395",
   "metadata": {},
   "source": [
    "<hr>\n",
    "<a class=\"anchor\" id=\"wolfram\">\n",
    "    \n",
    "## 6. Wolfram Alpha\n",
    "    \n",
    "</a>"
   ]
  },
  {
   "cell_type": "code",
   "execution_count": null,
   "id": "15cc4989",
   "metadata": {},
   "outputs": [],
   "source": []
  },
  {
   "cell_type": "markdown",
   "id": "d582ff61",
   "metadata": {},
   "source": [
    "<hr>\n",
    "<a class=\"anchor\" id=\"collab\">\n",
    "    \n",
    "## 7. A Showcase of Collaboration\n",
    "    \n",
    "</a>"
   ]
  },
  {
   "cell_type": "code",
   "execution_count": null,
   "id": "1369b041",
   "metadata": {},
   "outputs": [],
   "source": []
  },
  {
   "cell_type": "markdown",
   "id": "88e6adc3",
   "metadata": {},
   "source": [
    "<hr>\n",
    "<a class=\"anchor\" id=\"resources\">\n",
    "    \n",
    "## 8. Additional Resources\n",
    "    \n",
    "</a>"
   ]
  },
  {
   "cell_type": "markdown",
   "id": "fc95b568",
   "metadata": {},
   "source": [
    "- [SerpApi service](https://serpapi.com/)"
   ]
  },
  {
   "cell_type": "code",
   "execution_count": null,
   "id": "b8b43885",
   "metadata": {},
   "outputs": [],
   "source": []
  }
 ],
 "metadata": {
  "kernelspec": {
   "display_name": "langenv",
   "language": "python",
   "name": "langenv"
  },
  "language_info": {
   "codemirror_mode": {
    "name": "ipython",
    "version": 3
   },
   "file_extension": ".py",
   "mimetype": "text/x-python",
   "name": "python",
   "nbconvert_exporter": "python",
   "pygments_lexer": "ipython3",
   "version": "3.10.4"
  }
 },
 "nbformat": 4,
 "nbformat_minor": 5
}
