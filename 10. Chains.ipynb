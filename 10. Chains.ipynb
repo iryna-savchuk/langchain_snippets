{
 "cells": [
  {
   "cell_type": "markdown",
   "id": "f1790f12",
   "metadata": {},
   "source": [
    "# Chains\n",
    "\n",
    "* [1. Chains and Why They Are Used](#chains)\n",
    "    * [1.1. ](#) \n",
    "* [2. YouTube Video Summarizer](#video_summarizer)\n",
    "* [3. Creating Voice Assistant](#voice_assistant)\n",
    "* [4. Code Comprehension - Twitter Algorithm](#code_understanding)\n",
    "* [5. Recommendation Engine for Songs](#recommendation)\n",
    "* [6. Self-Critique Chain](#critique)"
   ]
  },
  {
   "cell_type": "code",
   "execution_count": 1,
   "id": "98da2a6b",
   "metadata": {},
   "outputs": [],
   "source": [
    "import os\n",
    "from keys import OPENAI_API_KEY\n",
    "os.environ[\"OPENAI_API_KEY\"] = OPENAI_API_KEY"
   ]
  },
  {
   "cell_type": "markdown",
   "id": "2b1d6c3b",
   "metadata": {},
   "source": [
    "<hr>\n",
    "<a class=\"anchor\" id=\"chains\">\n",
    "    \n",
    "## 1. Chains and the Reasons to Use them\n",
    "    \n",
    "</a>\n",
    "\n",
    "Chains are responsible for creating an end-to-end pipeline to use LLMs. Chains join the model, prompt, memory, parsing output, debugging capability. They also provide an easy-to-use interface. \n",
    "\n",
    "A chain will:\n",
    "1) receive the user’s query as an input;\n",
    "2) process the LLM’s response;\n",
    "3) return the output to the user.\n",
    "\n",
    "It is possible to design a custom pipeline by inheriting the `Chain` class. "
   ]
  },
  {
   "cell_type": "markdown",
   "id": "fbb884a4",
   "metadata": {},
   "source": [
    "<hr>\n",
    "<a class=\"anchor\" id=\"LLMChain\">\n",
    "    \n",
    "### 1.1. LLMChain\n",
    "    \n",
    "</a>"
   ]
  },
  {
   "cell_type": "code",
   "execution_count": null,
   "id": "7532f110",
   "metadata": {},
   "outputs": [],
   "source": []
  },
  {
   "cell_type": "markdown",
   "id": "b68fa16b",
   "metadata": {},
   "source": [
    "<hr>\n",
    "<a class=\"anchor\" id=\"parsers\">\n",
    "    \n",
    "### 1.2. Parsers\n",
    "    \n",
    "</a>"
   ]
  },
  {
   "cell_type": "code",
   "execution_count": null,
   "id": "0d629414",
   "metadata": {},
   "outputs": [],
   "source": []
  },
  {
   "cell_type": "markdown",
   "id": "c6c0bd9e",
   "metadata": {},
   "source": [
    "<hr>\n",
    "<a class=\"anchor\" id=\"memory\">\n",
    "    \n",
    "### 1.3. Conversational Chain (Memory)\n",
    "    \n",
    "</a>"
   ]
  },
  {
   "cell_type": "code",
   "execution_count": null,
   "id": "58e81b41",
   "metadata": {},
   "outputs": [],
   "source": []
  },
  {
   "cell_type": "markdown",
   "id": "49827b52",
   "metadata": {},
   "source": [
    "<hr>\n",
    "<a class=\"anchor\" id=\"seq\">\n",
    "    \n",
    "### 1.4. Sequential Chain\n",
    "    \n",
    "</a>"
   ]
  },
  {
   "cell_type": "code",
   "execution_count": null,
   "id": "64e048b3",
   "metadata": {},
   "outputs": [],
   "source": []
  },
  {
   "cell_type": "markdown",
   "id": "81d5043c",
   "metadata": {},
   "source": [
    "<hr>\n",
    "<a class=\"anchor\" id=\"debug\">\n",
    "    \n",
    "### 1.5. Debug\n",
    "    \n",
    "</a>"
   ]
  },
  {
   "cell_type": "code",
   "execution_count": null,
   "id": "9bd54a2f",
   "metadata": {},
   "outputs": [],
   "source": []
  },
  {
   "cell_type": "markdown",
   "id": "741c147a",
   "metadata": {},
   "source": [
    "<hr>\n",
    "<a class=\"anchor\" id=\"custom\">\n",
    "    \n",
    "### 1.6. Custom Chain\n",
    "    \n",
    "</a>"
   ]
  },
  {
   "cell_type": "code",
   "execution_count": null,
   "id": "1f14f8f2",
   "metadata": {},
   "outputs": [],
   "source": []
  },
  {
   "cell_type": "markdown",
   "id": "9892dccc",
   "metadata": {},
   "source": [
    "<hr>\n",
    "<a class=\"anchor\" id=\"video_summarizer\">\n",
    "    \n",
    "## 2. YouTube Video Summarizer\n",
    "    \n",
    "</a>"
   ]
  },
  {
   "cell_type": "code",
   "execution_count": null,
   "id": "1e986ca5",
   "metadata": {},
   "outputs": [],
   "source": []
  },
  {
   "cell_type": "code",
   "execution_count": null,
   "id": "4f8d6c8f",
   "metadata": {},
   "outputs": [],
   "source": []
  },
  {
   "cell_type": "markdown",
   "id": "6c293cea",
   "metadata": {},
   "source": [
    "<hr>\n",
    "<a class=\"anchor\" id=\"voice_assistant\">\n",
    "    \n",
    "## 3. Creating Voice Assistant\n",
    "    \n",
    "</a>"
   ]
  },
  {
   "cell_type": "code",
   "execution_count": null,
   "id": "de079a9d",
   "metadata": {},
   "outputs": [],
   "source": []
  },
  {
   "cell_type": "code",
   "execution_count": null,
   "id": "3b6ce6db",
   "metadata": {},
   "outputs": [],
   "source": []
  },
  {
   "cell_type": "markdown",
   "id": "5e5212c9",
   "metadata": {},
   "source": [
    "<hr>\n",
    "<a class=\"anchor\" id=\"code_understanding\">\n",
    "    \n",
    "## 4. Code Comprehension - Twitter Algorithm\n",
    "    \n",
    "</a>"
   ]
  },
  {
   "cell_type": "code",
   "execution_count": null,
   "id": "93ecf058",
   "metadata": {},
   "outputs": [],
   "source": []
  },
  {
   "cell_type": "code",
   "execution_count": null,
   "id": "6b5eefae",
   "metadata": {},
   "outputs": [],
   "source": []
  },
  {
   "cell_type": "markdown",
   "id": "57358b96",
   "metadata": {},
   "source": [
    "<hr>\n",
    "<a class=\"anchor\" id=\"recommendation\">\n",
    "    \n",
    "## 5. Recommendation Engine for Songs\n",
    "    \n",
    "</a>"
   ]
  },
  {
   "cell_type": "code",
   "execution_count": null,
   "id": "de09d267",
   "metadata": {},
   "outputs": [],
   "source": []
  },
  {
   "cell_type": "code",
   "execution_count": null,
   "id": "cee5c8d4",
   "metadata": {},
   "outputs": [],
   "source": []
  },
  {
   "cell_type": "markdown",
   "id": "7a14d903",
   "metadata": {},
   "source": [
    "<hr>\n",
    "<a class=\"anchor\" id=\"critique\">\n",
    "    \n",
    "## 6. Self-Critique Chain\n",
    "    \n",
    "</a>\n",
    "\n",
    "Self-critique chain acts as a mechanism to ensure model responses are appropriate in a production environment. By iterating over the model's output and checking against predefined expectations, the self-critique chain prompts the model to correct itself when necessary. "
   ]
  },
  {
   "cell_type": "code",
   "execution_count": null,
   "id": "e523fbe4",
   "metadata": {},
   "outputs": [],
   "source": []
  },
  {
   "cell_type": "markdown",
   "id": "391acb02",
   "metadata": {},
   "source": [
    "<hr>\n",
    "<a class=\"anchor\" id=\"resources\">\n",
    "    \n",
    "## 7. Additional Resources\n",
    "    \n",
    "</a>"
   ]
  },
  {
   "cell_type": "markdown",
   "id": "c2e828cc",
   "metadata": {},
   "source": [
    "- [Langchain documentation on Chains](https://python.langchain.com/docs/modules/chains/)"
   ]
  },
  {
   "cell_type": "code",
   "execution_count": null,
   "id": "6d757af9",
   "metadata": {},
   "outputs": [],
   "source": []
  }
 ],
 "metadata": {
  "kernelspec": {
   "display_name": "langenv",
   "language": "python",
   "name": "langenv"
  },
  "language_info": {
   "codemirror_mode": {
    "name": "ipython",
    "version": 3
   },
   "file_extension": ".py",
   "mimetype": "text/x-python",
   "name": "python",
   "nbconvert_exporter": "python",
   "pygments_lexer": "ipython3",
   "version": "3.10.4"
  }
 },
 "nbformat": 4,
 "nbformat_minor": 5
}
