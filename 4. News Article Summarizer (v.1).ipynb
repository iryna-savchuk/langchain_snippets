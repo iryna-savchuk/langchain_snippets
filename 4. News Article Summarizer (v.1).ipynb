{
 "cells": [
  {
   "cell_type": "markdown",
   "id": "f1790f12",
   "metadata": {},
   "source": [
    "# Building a News Articles Summarizer"
   ]
  },
  {
   "cell_type": "markdown",
   "id": "f03f946b",
   "metadata": {},
   "source": [
    "Steps:\n",
    "1. Install libraries: requests, newspaper3k, and langchain;\n",
    "2. Scrape articles: scrape the content of the target news articles from their respective URLs using the `requests` library;\n",
    "3. Extract titles and text: parse the scraped HTML and extract the titles and text of the articles using  `newspaper3k`; \n",
    "4. Preprocess the text: clean and preprocess the extracted text values to make them suitable for ChatGPT input;\n",
    "5. Generate summaries: utilize ChatGPT to summarize the extracted texts;\n",
    "6. Output the results: present the summaries along with the original titles, allowing users to grasp the main points of each article quickly."
   ]
  },
  {
   "cell_type": "markdown",
   "id": "ef2a794b",
   "metadata": {},
   "source": [
    "### 1. Installing and Importing Libraries"
   ]
  },
  {
   "cell_type": "code",
   "execution_count": 1,
   "id": "148bf3ff",
   "metadata": {},
   "outputs": [],
   "source": [
    "# Installing the required libraries\n",
    "# !pip install langchain==0.0.208 deeplake openai tiktoken\n",
    "# !pip install -q newspaper3k python-dotenv"
   ]
  },
  {
   "cell_type": "code",
   "execution_count": 2,
   "id": "98da2a6b",
   "metadata": {},
   "outputs": [],
   "source": [
    "import requests\n",
    "from newspaper import Article\n",
    "from langchain.schema import HumanMessage\n",
    "from langchain.chat_models import ChatOpenAI\n",
    "\n",
    "import os\n",
    "from keys import OPENAI_API_KEY\n",
    "os.environ[\"OPENAI_API_KEY\"] = OPENAI_API_KEY"
   ]
  },
  {
   "cell_type": "markdown",
   "id": "45f75465",
   "metadata": {},
   "source": [
    "### 2. Scrape Article"
   ]
  },
  {
   "cell_type": "code",
   "execution_count": 3,
   "id": "4184d3e3",
   "metadata": {},
   "outputs": [
    {
     "name": "stdout",
     "output_type": "stream",
     "text": [
      "Title: Meta claims its new AI supercomputer will set records\n",
      "Text: Ryan is a senior editor at TechForge Media with over a decade of experience covering the latest technology and interviewing leading industry figures. He can often be sighted at tech conferences with a strong coffee in one hand and a laptop in the other. If it's geeky, he’s probably into it. Find him on Twitter (@Gadget_Ry) or Mastodon (@gadgetry@techhub.social)\n",
      "\n",
      "Meta (formerly Facebook) has unveiled an AI supercomputer that it claims will be the world’s fastest.\n",
      "\n",
      "The supercomputer is called the AI Research SuperCluster (RSC) and is yet to be fully complete. However, Meta’s researchers have already begun using it for training large natural language processing (NLP) and computer vision models.\n",
      "\n",
      "RSC is set to be fully built in mid-2022. Meta says that it will be the fastest in the world once complete and the aim is for it to be capable of training models with trillions of parameters.\n",
      "\n",
      "“We hope RSC will help us build entirely new AI systems that can, for example, power real-time voice translations to large groups of people, each speaking a different language, so they can seamlessly collaborate on a research project or play an AR game together,” wrote Meta in a blog post.\n",
      "\n",
      "“Ultimately, the work done with RSC will pave the way toward building technologies for the next major computing platform — the metaverse, where AI-driven applications and products will play an important role.”\n",
      "\n",
      "For production, Meta expects RSC will be 20x faster than Meta’s current V100-based clusters. RSC is also estimated to be 9x faster at running the NVIDIA Collective Communication Library (NCCL) and 3x faster at training large-scale NLP workflows.\n",
      "\n",
      "A model with tens of billions of parameters can finish training in three weeks compared with nine weeks prior to RSC.\n",
      "\n",
      "Meta says that its previous AI research infrastructure only leveraged open source and other publicly-available datasets. RSC was designed with the security and privacy controls in mind to allow Meta to use real-world examples from its production systems in production training.\n",
      "\n",
      "What this means in practice is that Meta can use RSC to advance research for vital tasks such as identifying harmful content on its platforms—using real data from them.\n",
      "\n",
      "“We believe this is the first time performance, reliability, security, and privacy have been tackled at such a scale,” says Meta.\n",
      "\n",
      "(Image Credit: Meta)\n",
      "\n",
      "Want to learn more about AI and big data from industry leaders? Check out AI & Big Data Expo. The next events in the series will be held in Santa Clara on 11-12 May 2022, Amsterdam on 20-21 September 2022, and London on 1-2 December 2022.\n",
      "\n",
      "Explore other upcoming enterprise technology events and webinars powered by TechForge here.\n"
     ]
    }
   ],
   "source": [
    "headers = {\n",
    "    'User-Agent': 'Mozilla/5.0 (Windows NT 10.0; Win64; x64) AppleWebKit/537.36 (KHTML, like Gecko) Chrome/89.0.4389.82 Safari/537.36'\n",
    "}\n",
    "article_url = \"https://www.artificialintelligence-news.com/2022/01/25/meta-claims-new-ai-supercomputer-will-set-records/\"\n",
    "\n",
    "session = requests.Session()\n",
    "try:\n",
    "    # Fetch article from the URL using the requests library with a custom User-Agent header\n",
    "    response = session.get(article_url, headers=headers, timeout=10)\n",
    "    \n",
    "    # Extract the title and text of each article using the newspaper library\n",
    "    if response.status_code == 200:\n",
    "        article = Article(article_url)\n",
    "        article.download()\n",
    "        article.parse()\n",
    "        \n",
    "        print(f\"Title: {article.title}\")\n",
    "        print(f\"Text: {article.text}\")\n",
    "        \n",
    "    else:\n",
    "        print(f\"Failed to fetch article at {article_url}\")\n",
    "except Exception as e:\n",
    "    print(f\"Error occurred while fetching article at {article_url}: {e}\")"
   ]
  },
  {
   "cell_type": "markdown",
   "id": "a75cc305",
   "metadata": {},
   "source": [
    "### 3. Extract titles and text"
   ]
  },
  {
   "cell_type": "code",
   "execution_count": 4,
   "id": "707198e8",
   "metadata": {},
   "outputs": [],
   "source": [
    "# Get the article data from the scraping part\n",
    "article_title = article.title\n",
    "article_text = article.text"
   ]
  },
  {
   "cell_type": "markdown",
   "id": "911099e3",
   "metadata": {},
   "source": [
    "### 4.Preprocess the text"
   ]
  },
  {
   "cell_type": "code",
   "execution_count": 5,
   "id": "d33e9289",
   "metadata": {},
   "outputs": [],
   "source": [
    "# Prepare template for prompt\n",
    "template = \"\"\"You are a very good assistant that summarizes online articles.\n",
    "Here's the article you want to summarize.\n",
    "==================\n",
    "Title: {article_title}\n",
    "\n",
    "{article_text}\n",
    "==================\n",
    "Write a summary of the previous article.\n",
    "\"\"\"\n",
    "\n",
    "prompt = template.format(article_title=article.title, article_text=article.text)\n",
    "messages = [HumanMessage(content=prompt)]"
   ]
  },
  {
   "cell_type": "markdown",
   "id": "a6b010f3",
   "metadata": {},
   "source": [
    "### 5. Generate and Print Summary"
   ]
  },
  {
   "cell_type": "code",
   "execution_count": 6,
   "id": "0a692d08",
   "metadata": {},
   "outputs": [],
   "source": [
    "# Load the model\n",
    "chat = ChatOpenAI(model_name=\"gpt-3.5-turbo\", temperature=0)  # model_name = \"gpt-4\""
   ]
  },
  {
   "cell_type": "code",
   "execution_count": 7,
   "id": "46a78006",
   "metadata": {},
   "outputs": [
    {
     "name": "stdout",
     "output_type": "stream",
     "text": [
      "Meta, formerly known as Facebook, has unveiled its AI Research SuperCluster (RSC), an AI supercomputer that it claims will be the fastest in the world once completed in mid-2022. The RSC is already being used for training large natural language processing and computer vision models. Meta aims for the RSC to be capable of training models with trillions of parameters and hopes it will pave the way for AI-driven applications in the metaverse. The RSC is expected to be 20 times faster than Meta's current clusters and will enable faster training of large-scale NLP workflows. Additionally, the RSC's design prioritizes security and privacy controls, allowing Meta to use real-world examples from its production systems for research purposes.\n"
     ]
    }
   ],
   "source": [
    "# Generate summary - use the chat() instance by passing a single HumanMessage object with the formatted prompt\n",
    "summary = chat(messages) \n",
    "print(summary.content)"
   ]
  },
  {
   "cell_type": "code",
   "execution_count": 8,
   "id": "1ab84bc3",
   "metadata": {},
   "outputs": [
    {
     "name": "stdout",
     "output_type": "stream",
     "text": [
      "- Meta (formerly Facebook) has unveiled an AI supercomputer called the AI Research SuperCluster (RSC) that it claims will be the world's fastest.\n",
      "- The RSC is currently being used for training large natural language processing (NLP) and computer vision models.\n",
      "- Once fully built in mid-2022, Meta aims for the RSC to be capable of training models with trillions of parameters and to be the fastest in the world.\n",
      "- Meta hopes that the RSC will enable the development of new AI systems for real-time voice translations and collaboration in the metaverse.\n",
      "- The RSC is expected to be 20x faster than Meta's current clusters, 9x faster at running the NVIDIA Collective Communication Library (NCCL), and 3x faster at training large-scale NLP workflows.\n",
      "- Meta designed the RSC with security and privacy controls to use real-world examples from its production systems for research, such as identifying harmful content on its platforms.\n",
      "- Meta believes that the RSC tackles performance, reliability, security, and privacy at an unprecedented scale.\n"
     ]
    }
   ],
   "source": [
    "# If we wanted a bulleted list, we could modify a prompt\n",
    "\n",
    "# Prepare another template for prompt\n",
    "template = \"\"\"You are an advanced AI assistant that summarizes online articles into bulleted lists.\n",
    "\n",
    "Here's the article you need to summarize.\n",
    "\n",
    "==================\n",
    "Title: {article_title}\n",
    "\n",
    "{article_text}\n",
    "==================\n",
    "\n",
    "Now, provide a summarized version of the article in a bulleted list format.\n",
    "\"\"\"\n",
    "\n",
    "# Format prompt\n",
    "prompt = template.format(article_title=article.title, article_text=article.text)\n",
    "\n",
    "# Generate summary\n",
    "summary = chat([HumanMessage(content=prompt)])\n",
    "print(summary.content)"
   ]
  },
  {
   "cell_type": "code",
   "execution_count": 11,
   "id": "0a50cc60",
   "metadata": {},
   "outputs": [
    {
     "name": "stdout",
     "output_type": "stream",
     "text": [
      "- Meta a dévoilé un superordinateur d'intelligence artificielle (IA) appelé AI Research SuperCluster (RSC) qui prétend être le plus rapide au monde.\n",
      "- Le RSC est encore en construction, mais les chercheurs de Meta l'utilisent déjà pour former de grands modèles de traitement du langage naturel (NLP) et de vision par ordinateur.\n",
      "- Une fois terminé, le RSC devrait être le plus rapide au monde et capable de former des modèles avec des milliers de milliards de paramètres.\n",
      "- Meta espère que le RSC permettra de développer de nouveaux systèmes d'IA pour des applications telles que la traduction vocale en temps réel ou les jeux en réalité augmentée.\n",
      "- Le RSC devrait être 20 fois plus rapide que les clusters actuels de Meta et 9 fois plus rapide pour exécuter la bibliothèque de communication collective NVIDIA (NCCL).\n",
      "- Meta affirme que le RSC permettra de former des modèles avec des dizaines de milliards de paramètres en trois semaines au lieu de neuf semaines.\n",
      "- Le RSC a été conçu avec des contrôles de sécurité et de confidentialité pour permettre à Meta d'utiliser des exemples réels de ses systèmes de production dans la formation.\n",
      "- Meta pense que c'est la première fois que des performances, une fiabilité, une sécurité et une confidentialité de cette échelle sont abordées.\n",
      "- Le RSC sera utilisé pour la recherche sur des tâches vitales telles que l'identification de contenus nuisibles sur les plateformes de Meta en utilisant de vraies données.\n"
     ]
    }
   ],
   "source": [
    "# If we wanted to get summary in French\n",
    "\n",
    "# Prepare template for prompt\n",
    "template = \"\"\"You are an advanced AI assistant that summarizes online articles into bulleted lists in French.\n",
    "\n",
    "Here's the article you need to summarize.\n",
    "\n",
    "==================\n",
    "Title: {article_title}\n",
    "\n",
    "{article_text}\n",
    "==================\n",
    "\n",
    "Now, provide a summarized version of the article in a bulleted list format, in French.\n",
    "\"\"\"\n",
    "\n",
    "# Format prompt\n",
    "prompt = template.format(article_title=article.title, article_text=article.text)\n",
    "\n",
    "# Generate summary\n",
    "summary = chat([HumanMessage(content=prompt)])\n",
    "print(summary.content)"
   ]
  },
  {
   "cell_type": "code",
   "execution_count": null,
   "id": "3b6ce6db",
   "metadata": {},
   "outputs": [],
   "source": []
  }
 ],
 "metadata": {
  "kernelspec": {
   "display_name": "langenv",
   "language": "python",
   "name": "langenv"
  },
  "language_info": {
   "codemirror_mode": {
    "name": "ipython",
    "version": 3
   },
   "file_extension": ".py",
   "mimetype": "text/x-python",
   "name": "python",
   "nbconvert_exporter": "python",
   "pygments_lexer": "ipython3",
   "version": "3.10.4"
  }
 },
 "nbformat": 4,
 "nbformat_minor": 5
}
