{
 "cells": [
  {
   "cell_type": "markdown",
   "id": "f1790f12",
   "metadata": {},
   "source": [
    "# QA CHatbot over GitHub Repo\n",
    "\n",
    "This project focuses on finding answers from a GitHub repository’s text files like `.md` and `.txt`. \n",
    "\n",
    "STEPS:\n",
    "* [1. Processing Files](#processing)\n",
    "* [2. Saving Embeddings](#saving)\n",
    "* [3. Retrieving from Database](#retrieving)\n",
    "* [4. Creating an Interface](#interface)\n",
    "\n",
    "RESOURCES:"
   ]
  },
  {
   "cell_type": "code",
   "execution_count": 1,
   "id": "98da2a6b",
   "metadata": {},
   "outputs": [],
   "source": [
    "import sys, os\n",
    "sys.path.append('..')\n",
    "from keys import OPENAI_API_KEY, ACTIVELOOP_TOKEN\n",
    "\n",
    "os.environ[\"OPENAI_API_KEY\"] = OPENAI_API_KEY\n",
    "os.environ[\"ACTIVELOOP_TOKEN\"] = ACTIVELOOP_TOKEN\n",
    "\n",
    "ACTIVELOOP_USERNAME='iryna'"
   ]
  },
  {
   "cell_type": "markdown",
   "id": "2b1d6c3b",
   "metadata": {},
   "source": [
    "<hr>\n",
    "<a class=\"anchor\" id=\"processing\">\n",
    "    \n",
    "## 1. Processing Files processing\n",
    "    \n",
    "</a>"
   ]
  },
  {
   "cell_type": "markdown",
   "id": "070d1f7c",
   "metadata": {},
   "source": [
    "To begin with creating a ChatBot, the following repo was cloned to the local machine: https://github.com/huggingface/transformers"
   ]
  },
  {
   "cell_type": "code",
   "execution_count": 3,
   "id": "4bd107cd",
   "metadata": {},
   "outputs": [],
   "source": [
    "from langchain.document_loaders import TextLoader\n",
    "\n",
    "# Path to the cloned repo \n",
    "root_dir = \"../../transformers\"\n",
    "docs = []\n",
    "file_extensions = ['.md', '.txt']\n",
    "\n",
    "for dirpath, dirnames, filenames in os.walk(root_dir):\n",
    "    \n",
    "    for file in filenames:\n",
    "        file_path = os.path.join(dirpath, file)\n",
    "        if file_extensions and os.path.splitext(file)[1] not in file_extensions:\n",
    "            continue   \n",
    "        loader = TextLoader(file_path, encoding=\"utf-8\")\n",
    "        docs.extend(loader.load_and_split())"
   ]
  },
  {
   "cell_type": "code",
   "execution_count": 5,
   "id": "3690760c",
   "metadata": {},
   "outputs": [
    {
     "data": {
      "text/plain": [
       "2191"
      ]
     },
     "execution_count": 5,
     "metadata": {},
     "output_type": "execute_result"
    }
   ],
   "source": [
    "len(docs)"
   ]
  },
  {
   "cell_type": "code",
   "execution_count": 27,
   "id": "68b1aee2",
   "metadata": {},
   "outputs": [
    {
     "data": {
      "text/plain": [
       "Document(page_content=\"# Contributor Covenant Code of Conduct\\n\\n## Our Pledge\\n\\nWe as members, contributors, and leaders pledge to make participation in our\\ncommunity a harassment-free experience for everyone, regardless of age, body\\nsize, visible or invisible disability, ethnicity, sex characteristics, gender\\nidentity and expression, level of experience, education, socio-economic status,\\nnationality, personal appearance, race, caste, color, religion, or sexual\\nidentity and orientation.\\n\\nWe pledge to act and interact in ways that contribute to an open, welcoming,\\ndiverse, inclusive, and healthy community.\\n\\n## Our Standards\\n\\nExamples of behavior that contributes to a positive environment for our\\ncommunity include:\\n\\n* Demonstrating empathy and kindness toward other people\\n* Being respectful of differing opinions, viewpoints, and experiences\\n* Giving and gracefully accepting constructive feedback\\n* Accepting responsibility and apologizing to those affected by our mistakes,\\n  and learning from the experience\\n* Focusing on what is best not just for us as individuals, but for the overall\\n  community\\n\\nExamples of unacceptable behavior include:\\n\\n* The use of sexualized language or imagery, and sexual attention or advances of\\n  any kind\\n* Trolling, insulting or derogatory comments, and personal or political attacks\\n* Public or private harassment\\n* Publishing others' private information, such as a physical or email address,\\n  without their explicit permission\\n* Other conduct which could reasonably be considered inappropriate in a\\n  professional setting\\n\\n## Enforcement Responsibilities\\n\\nCommunity leaders are responsible for clarifying and enforcing our standards of\\nacceptable behavior and will take appropriate and fair corrective action in\\nresponse to any behavior that they deem inappropriate, threatening, offensive,\\nor harmful.\\n\\nCommunity leaders have the right and responsibility to remove, edit, or reject\\ncomments, commits, code, wiki edits, issues, and other contributions that are\\nnot aligned to this Code of Conduct, and will communicate reasons for moderation\\ndecisions when appropriate.\\n\\n## Scope\\n\\nThis Code of Conduct applies within all community spaces, and also applies when\\nan individual is officially representing the community in public spaces.\\nExamples of representing our community include using an official e-mail address,\\nposting via an official social media account, or acting as an appointed\\nrepresentative at an online or offline event.\\n\\n## Enforcement\\n\\nInstances of abusive, harassing, or otherwise unacceptable behavior may be\\nreported to the community leaders responsible for enforcement at\\nfeedback@huggingface.co.\\nAll complaints will be reviewed and investigated promptly and fairly.\\n\\nAll community leaders are obligated to respect the privacy and security of the\\nreporter of any incident.\\n\\n## Enforcement Guidelines\\n\\nCommunity leaders will follow these Community Impact Guidelines in determining\\nthe consequences for any action they deem in violation of this Code of Conduct:\\n\\n### 1. Correction\\n\\n**Community Impact**: Use of inappropriate language or other behavior deemed\\nunprofessional or unwelcome in the community.\\n\\n**Consequence**: A private, written warning from community leaders, providing\\nclarity around the nature of the violation and an explanation of why the\\nbehavior was inappropriate. A public apology may be requested.\\n\\n### 2. Warning\\n\\n**Community Impact**: A violation through a single incident or series of\\nactions.\\n\\n**Consequence**: A warning with consequences for continued behavior. No\\ninteraction with the people involved, including unsolicited interaction with\\nthose enforcing the Code of Conduct, for a specified period of time. This\\nincludes avoiding interactions in community spaces as well as external channels\\nlike social media. Violating these terms may lead to a temporary or permanent\\nban.\\n\\n### 3. Temporary Ban\\n\\n**Community Impact**: A serious violation of community standards, including\\nsustained inappropriate behavior.\", metadata={'source': '../../transformers/CODE_OF_CONDUCT.md'})"
      ]
     },
     "execution_count": 27,
     "metadata": {},
     "output_type": "execute_result"
    }
   ],
   "source": [
    "docs[0]"
   ]
  },
  {
   "cell_type": "code",
   "execution_count": 23,
   "id": "7bd5939e",
   "metadata": {},
   "outputs": [],
   "source": [
    "from langchain.text_splitter import RecursiveCharacterTextSplitter\n",
    "\n",
    "text_splitter = RecursiveCharacterTextSplitter(chunk_size=1000, chunk_overlap=100, length_function=len)\n",
    "splitted_text = text_splitter.split_documents(docs)"
   ]
  },
  {
   "cell_type": "code",
   "execution_count": 24,
   "id": "946497ce",
   "metadata": {},
   "outputs": [
    {
     "data": {
      "text/plain": [
       "9496"
      ]
     },
     "execution_count": 24,
     "metadata": {},
     "output_type": "execute_result"
    }
   ],
   "source": [
    "len(splitted_text)"
   ]
  },
  {
   "cell_type": "code",
   "execution_count": 25,
   "id": "e72143f7",
   "metadata": {},
   "outputs": [
    {
     "name": "stdout",
     "output_type": "stream",
     "text": [
      "# Contributor Covenant Code of Conduct\n",
      "\n",
      "## Our Pledge\n",
      "\n",
      "We as members, contributors, and leaders pledge to make participation in our\n",
      "community a harassment-free experience for everyone, regardless of age, body\n",
      "size, visible or invisible disability, ethnicity, sex characteristics, gender\n",
      "identity and expression, level of experience, education, socio-economic status,\n",
      "nationality, personal appearance, race, caste, color, religion, or sexual\n",
      "identity and orientation.\n",
      "\n",
      "We pledge to act and interact in ways that contribute to an open, welcoming,\n",
      "diverse, inclusive, and healthy community.\n",
      "\n",
      "## Our Standards\n",
      "\n",
      "Examples of behavior that contributes to a positive environment for our\n",
      "community include:\n"
     ]
    }
   ],
   "source": [
    "# Print the length of the first chunk and the chunk\n",
    "print(splitted_text[0].page_content)"
   ]
  },
  {
   "cell_type": "code",
   "execution_count": 26,
   "id": "282640af",
   "metadata": {},
   "outputs": [
    {
     "name": "stdout",
     "output_type": "stream",
     "text": [
      "Examples of behavior that contributes to a positive environment for our\n",
      "community include:\n",
      "\n",
      "* Demonstrating empathy and kindness toward other people\n",
      "* Being respectful of differing opinions, viewpoints, and experiences\n",
      "* Giving and gracefully accepting constructive feedback\n",
      "* Accepting responsibility and apologizing to those affected by our mistakes,\n",
      "  and learning from the experience\n",
      "* Focusing on what is best not just for us as individuals, but for the overall\n",
      "  community\n",
      "\n",
      "Examples of unacceptable behavior include:\n",
      "\n",
      "* The use of sexualized language or imagery, and sexual attention or advances of\n",
      "  any kind\n",
      "* Trolling, insulting or derogatory comments, and personal or political attacks\n",
      "* Public or private harassment\n",
      "* Publishing others' private information, such as a physical or email address,\n",
      "  without their explicit permission\n",
      "* Other conduct which could reasonably be considered inappropriate in a\n",
      "  professional setting\n",
      "\n",
      "## Enforcement Responsibilities\n"
     ]
    }
   ],
   "source": [
    "print(splitted_text[1].page_content)"
   ]
  },
  {
   "cell_type": "markdown",
   "id": "6ed45a88",
   "metadata": {},
   "source": [
    "<hr>\n",
    "<a class=\"anchor\" id=\"saving\">\n",
    "    \n",
    "## 2. Saving Embeddings\n",
    "    \n",
    "</a>"
   ]
  },
  {
   "cell_type": "code",
   "execution_count": 29,
   "id": "84ce9d7b",
   "metadata": {},
   "outputs": [
    {
     "name": "stderr",
     "output_type": "stream",
     "text": [
      "Using embedding function is deprecated and will be removed in the future. Please use embedding instead.\n"
     ]
    },
    {
     "name": "stdout",
     "output_type": "stream",
     "text": [
      "Your Deep Lake dataset has been successfully created!\n"
     ]
    },
    {
     "name": "stderr",
     "output_type": "stream",
     "text": []
    }
   ],
   "source": [
    "# Create database on Activeloop DataLake cloud\n",
    "from langchain.embeddings.openai import OpenAIEmbeddings\n",
    "from langchain.vectorstores import DeepLake\n",
    "\n",
    "embeddings = OpenAIEmbeddings(model=\"text-embedding-ada-002\")\n",
    "\n",
    "my_activeloop_org_id = ACTIVELOOP_USERNAME\n",
    "my_activeloop_dataset_name = \"chat_with_github\"\n",
    "dataset_path = f\"hub://{my_activeloop_org_id}/{my_activeloop_dataset_name}\"\n",
    "\n",
    "db = DeepLake(dataset_path=dataset_path, embedding_function=embeddings)"
   ]
  },
  {
   "cell_type": "code",
   "execution_count": null,
   "id": "23390b2c",
   "metadata": {},
   "outputs": [],
   "source": [
    "# Adding data to the database (embedding is done by Activeloop automatically\n",
    "# db.add_documents(splitted_text)"
   ]
  },
  {
   "cell_type": "markdown",
   "id": "6e4d42da",
   "metadata": {},
   "source": [
    "<hr>\n",
    "<a class=\"anchor\" id=\"retrieving\">\n",
    "    \n",
    "## 3. Retrieving from Database\n",
    "    \n",
    "</a>"
   ]
  },
  {
   "cell_type": "code",
   "execution_count": 31,
   "id": "aec5483c",
   "metadata": {},
   "outputs": [],
   "source": [
    "# Create a retriever from the DeepLake instance\n",
    "retriever = db.as_retriever()"
   ]
  },
  {
   "cell_type": "code",
   "execution_count": 32,
   "id": "8bf82b08",
   "metadata": {},
   "outputs": [],
   "source": [
    "# Set the search parameters for the retriever\n",
    "retriever.search_kwargs[\"distance_metric\"] = \"cos\"\n",
    "retriever.search_kwargs[\"fetch_k\"] = 100\n",
    "retriever.search_kwargs[\"maximal_marginal_relevance\"] = True\n",
    "retriever.search_kwargs[\"k\"] = 10"
   ]
  },
  {
   "cell_type": "code",
   "execution_count": 34,
   "id": "8f28f0a5",
   "metadata": {},
   "outputs": [],
   "source": [
    "from langchain.chat_models import ChatOpenAI\n",
    "from langchain.chains import RetrievalQA\n",
    "\n",
    "# Create a ChatOpenAI model instance\n",
    "model = ChatOpenAI()\n",
    "\n",
    "# Create a RetrievalQA instance from the model and retriever\n",
    "qa = RetrievalQA.from_llm(model, retriever=retriever)"
   ]
  },
  {
   "cell_type": "code",
   "execution_count": 37,
   "id": "5a7469b3",
   "metadata": {},
   "outputs": [
    {
     "data": {
      "text/plain": [
       "\"Examples of unacceptable actions include:\\n\\n- The use of sexualized language or imagery, and sexual attention or advances of any kind\\n- Trolling, insulting, or derogatory comments, and personal or political attacks\\n- Public or private harassment\\n- Publishing others' private information, such as a physical or email address, without their explicit permission\\n- Other conduct that could reasonably be considered inappropriate in a professional setting\""
      ]
     },
     "execution_count": 37,
     "metadata": {},
     "output_type": "execute_result"
    }
   ],
   "source": [
    "# Return the result of the query\n",
    "qa.run(\"What are examples of unacceptable actions?\")"
   ]
  },
  {
   "cell_type": "markdown",
   "id": "378c7190",
   "metadata": {},
   "source": [
    "<hr>\n",
    "<a class=\"anchor\" id=\"interface\">\n",
    "    \n",
    "## 4. Creating an Interface\n",
    "    \n",
    "</a>"
   ]
  },
  {
   "cell_type": "markdown",
   "id": "5e169788",
   "metadata": {},
   "source": [
    "Creating a UI for the bot to be accessed through a web browser is an optional yet crucial step. It will allow users to engage with the application effortlessly, even without any programming expertise. \n",
    " \n",
    "A fast and easy way to build and deploy an application for free is to use the [Streamlit](https://streamlit.io/) platform. It provides a wide range of widgets to be used in application and has a comprehensive [API documentation](https://docs.streamlit.io/library/api-reference) page. We need a simple UI that accepts the input from the user and shows the conversation in a chat-like interface, and Streamlit provides both."
   ]
  },
  {
   "cell_type": "code",
   "execution_count": null,
   "id": "1fdf7ee6",
   "metadata": {},
   "outputs": [],
   "source": [
    "# pip install streamlit streamlit_chat"
   ]
  },
  {
   "cell_type": "code",
   "execution_count": 45,
   "id": "4b1db679",
   "metadata": {},
   "outputs": [
    {
     "name": "stdout",
     "output_type": "stream",
     "text": [
      "\n"
     ]
    }
   ],
   "source": [
    "\"\"\"\n",
    "import streamlit as st\n",
    "from streamlit_chat import message\n",
    "\n",
    "# Set the title for the Streamlit app\n",
    "st.title(f\"Chat with GitHub Repository\")\n",
    "\n",
    "# Initialize the session state for placeholder messages.\n",
    "if \"generated\" not in st.session_state:\n",
    "    st.session_state[\"generated\"] = [\"i am ready to help you ser\"]\n",
    "\n",
    "if \"past\" not in st.session_state:\n",
    "    st.session_state[\"past\"] = [\"hello\"]\n",
    "\n",
    "# A field input to receive user queries\n",
    "input_text = st.text_input(\"\", key=\"input\")\n",
    "\n",
    "# Search the databse and add the responses to state\n",
    "if user_input:\n",
    "    output = qa.run(user_input)\n",
    "    st.session_state.past.append(user_input)\n",
    "    st.session_state.generated.append(output)\n",
    "\n",
    "# Create the conversational UI using the previous states\n",
    "if st.session_state[\"generated\"]:\n",
    "    for i in range(len(st.session_state[\"generated\"])):\n",
    "        message(st.session_state[\"past\"][i], is_user=True, key=str(i) + \"_user\")\n",
    "        message(st.session_state[\"generated\"][i], key=str(i))\n",
    "\"\"\"\n",
    "print(\"\")"
   ]
  },
  {
   "cell_type": "markdown",
   "id": "ac52ce38",
   "metadata": {},
   "source": [
    "The code above is straightforward. We call st.text_input() to create text input for users queries. The query will be passed to the previously declared RetrievalQA object, and the results will be shown using the message component. You should store the mentioned code in a Python file (for example, chat.py) and run the following command to see the interface locally:\n",
    "> streamlit run ./chat.py\n",
    "\n",
    "Please read the documentation on how to [deploy](https://docs.streamlit.io/library/get-started/create-an-app#share-your-app) the application on the web so anyone can access it."
   ]
  },
  {
   "cell_type": "code",
   "execution_count": null,
   "id": "9e474e8d",
   "metadata": {},
   "outputs": [],
   "source": []
  }
 ],
 "metadata": {
  "kernelspec": {
   "display_name": "langenv",
   "language": "python",
   "name": "langenv"
  },
  "language_info": {
   "codemirror_mode": {
    "name": "ipython",
    "version": 3
   },
   "file_extension": ".py",
   "mimetype": "text/x-python",
   "name": "python",
   "nbconvert_exporter": "python",
   "pygments_lexer": "ipython3",
   "version": "3.10.4"
  }
 },
 "nbformat": 4,
 "nbformat_minor": 5
}
