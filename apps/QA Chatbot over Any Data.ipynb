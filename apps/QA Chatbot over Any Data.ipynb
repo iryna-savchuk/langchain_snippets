{
 "cells": [
  {
   "cell_type": "markdown",
   "id": "f1790f12",
   "metadata": {},
   "source": [
    "# QA Chatbot over Any Data\n",
    "\n",
    "Many LLM-based apps are popping up here and there, but **DataChad**, created by Gustav von Zitzewitz, takes it several steps further: it works both locally or in the cloud, and allows chatting with multiple data sources of various types (PDFs, Excel sheets, etc.) at the same time."
   ]
  },
  {
   "cell_type": "markdown",
   "id": "9ae4d38b",
   "metadata": {},
   "source": [
    "<hr>\n",
    "<a class=\"anchor\" id=\"blueprint\">\n",
    "    \n",
    "## 1. Architectural Blueprint for DataChad\n",
    "    \n",
    "</a>"
   ]
  },
  {
   "cell_type": "markdown",
   "id": "e1c54fba",
   "metadata": {},
   "source": [
    "DataChad uses the following tools in its architectual blueprint:\n",
    "\n",
    "- **OpenAI Embeddings**: to convert text documents into vectors that can be indexed and searched efficiently;\n",
    "- **Vector Database**: to store the embeddings generated from the text documents;\n",
    "- **Large Language Models (LLMs)**: to generate responses to user questions. \n",
    "- **LangChain**: to combine the embeddings and LLMs into a single retrieval chain that can be used to answer user questions;\n",
    "- **Streamlit**: to build demo apps in Python quickly."
   ]
  },
  {
   "cell_type": "markdown",
   "id": "568887ac",
   "metadata": {},
   "source": [
    "<hr>\n",
    "<a class=\"anchor\" id=\"resources\">\n",
    "    \n",
    "## 2. Important Resources\n",
    "    \n",
    "</a>"
   ]
  },
  {
   "cell_type": "markdown",
   "id": "f6f4f78c",
   "metadata": {},
   "source": [
    "- [Detailed Article](https://www.activeloop.ai/resources/data-chad-an-ai-app-with-lang-chain-deep-lake-to-chat-with-any-data/)\n",
    "- [DataChad Demo](https://datachad.streamlit.app/)\n",
    "- [GitHub Repo](https://github.com/gustavz/datachad)"
   ]
  }
 ],
 "metadata": {
  "kernelspec": {
   "display_name": "langenv",
   "language": "python",
   "name": "langenv"
  },
  "language_info": {
   "codemirror_mode": {
    "name": "ipython",
    "version": 3
   },
   "file_extension": ".py",
   "mimetype": "text/x-python",
   "name": "python",
   "nbconvert_exporter": "python",
   "pygments_lexer": "ipython3",
   "version": "3.10.4"
  }
 },
 "nbformat": 4,
 "nbformat_minor": 5
}
