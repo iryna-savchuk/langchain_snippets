{
 "cells": [
  {
   "cell_type": "markdown",
   "id": "f1790f12",
   "metadata": {},
   "source": [
    "# Creating a Voice Assistant for a Knowledge Base\n",
    "\n",
    "* [1. Sourcing Content from Hugging Face Hub](#sourcing)\n",
    "    * [1.1. Scrape content](#scrape)\n",
    "    * [1.2. Loading and splitting texts](#load_split)\n",
    "* [2. Embedding and storing in Deep Lake](#storing)\n",
    "* [3. Voice Assistant](#assistant)\n",
    "* [4. User Interaction](#interaction)\n",
    "\n",
    "The main purpose here is to create a voice assistant that can efficiently navigate a knowledge base, providing precise and timely responses to a user's queries.\n",
    "\n",
    "Inspiration taken from: [GitHub repo](https://github.com/peterw/JarvisBase)"
   ]
  },
  {
   "cell_type": "code",
   "execution_count": 1,
   "id": "98da2a6b",
   "metadata": {},
   "outputs": [],
   "source": [
    "import sys, os\n",
    "sys.path.append('..')\n",
    "\n",
    "from keys import OPENAI_API_KEY, ACTIVELOOP_TOKEN, ELEVEN_API_KEY\n",
    "os.environ[\"OPENAI_API_KEY\"] = OPENAI_API_KEY\n",
    "os.environ[\"ACTIVELOOP_TOKEN\"] = ACTIVELOOP_TOKEN\n",
    "os.environ[\"ELEVEN_API_KEY\"] = ELEVEN_API_KEY"
   ]
  },
  {
   "cell_type": "markdown",
   "id": "e80317d2",
   "metadata": {},
   "source": [
    "Main stages:\n",
    "1. Transcribe voice inputs into text - automatic speech recognition (ASR) using OpenAI's Whisper.\n",
    "2. Generating response to the question:\n",
    "    - loading the vector database, a repository housing relevant documents\n",
    "    - retrieve the documents and feed them along with question to LLM\n",
    "    - LLM then generates the response based on retrieved documents\n",
    "3. Generating voice outputs - employ Eleven Labs."
   ]
  },
  {
   "cell_type": "markdown",
   "id": "2b1d6c3b",
   "metadata": {},
   "source": [
    "<hr>\n",
    "<a class=\"anchor\" id=\"sourcing\">\n",
    "    \n",
    "## 1. Sourcing Content from Hugging Face Hub\n",
    "    \n",
    "</a>\n",
    "\n",
    "The knowledge base for our voice assistant will be created by the articles from the Hugging Face Hub. We'll do some web scraping in order to collect the documents documents."
   ]
  },
  {
   "cell_type": "code",
   "execution_count": 2,
   "id": "ef350693",
   "metadata": {},
   "outputs": [],
   "source": [
    "# Import necessary modules\n",
    "import os\n",
    "import requests\n",
    "from bs4 import BeautifulSoup\n",
    "from langchain.embeddings.openai import OpenAIEmbeddings\n",
    "from langchain.vectorstores import DeepLake\n",
    "from langchain.text_splitter import CharacterTextSplitter\n",
    "from langchain.document_loaders import TextLoader\n",
    "import re\n",
    "\n",
    "# Set up the path for DeepLake (a vector database)\n",
    "my_activeloop_org_id = \"iryna\"\n",
    "my_activeloop_dataset_name = \"voice_assistant_data\"\n",
    "dataset_path = f\"hub://{my_activeloop_org_id}/{my_activeloop_dataset_name}\"\n",
    "\n",
    "# Set up an OpenAIEmbeddings instance\n",
    "model_params = {\n",
    "    \"model_name\": \"text-embedding-ada-002\",\n",
    "}\n",
    "embeddings =  OpenAIEmbeddings(model_kwargs=model_params)"
   ]
  },
  {
   "cell_type": "markdown",
   "id": "a7142ee2",
   "metadata": {},
   "source": [
    "<hr>\n",
    "<a class=\"anchor\" id=\"scrape\">\n",
    "    \n",
    "### 1.1. Scrape content\n",
    "    \n",
    "</a>"
   ]
  },
  {
   "cell_type": "code",
   "execution_count": 3,
   "id": "eeb66291",
   "metadata": {},
   "outputs": [],
   "source": [
    "def get_documentation_urls():\n",
    "    # List of relative URLs for the desired Hugging Face documentation pages\n",
    "    return [\n",
    "        '/docs/huggingface_hub/guides/overview',\n",
    "        '/docs/huggingface_hub/guides/download',\n",
    "        '/docs/huggingface_hub/guides/upload',\n",
    "        '/docs/huggingface_hub/guides/hf_file_system',\n",
    "        '/docs/huggingface_hub/guides/repository',\n",
    "        '/docs/huggingface_hub/guides/search',\n",
    "    ]\n",
    "\n",
    "\n",
    "def construct_full_url(base_url, relative_url):\n",
    "    # Construct the full URL by appending the relative URL to the base URL\n",
    "    return base_url + relative_url\n",
    "\n",
    "\n",
    "def scrape_page_content(url):\n",
    "    # Send a GET request to the URL and parse the HTML response using BeautifulSoup\n",
    "    response = requests.get(url)\n",
    "    soup = BeautifulSoup(response.text, 'html.parser')\n",
    "    # Extract the desired content from the page (in this case, the body text)\n",
    "    text=soup.body.text.strip()\n",
    "    # Remove non-ASCII characters\n",
    "    text = re.sub(r'[\\x00-\\x08\\x0b-\\x0c\\x0e-\\x1f\\x7f-\\xff]', '', text)\n",
    "    # Remove extra whitespace and newlines\n",
    "    text = re.sub(r'\\s+', ' ', text)\n",
    "    return text.strip()\n",
    "\n",
    "\n",
    "def scrape_all_content(base_url, relative_urls, filename):\n",
    "    # Loop through the list of URLs, scrape content and add it to the content list\n",
    "    content = []\n",
    "    for relative_url in relative_urls:\n",
    "        print(\"loading content for\", relative_url)\n",
    "        full_url = construct_full_url(base_url, relative_url)\n",
    "        scraped_content = scrape_page_content(full_url)\n",
    "        content.append(scraped_content.rstrip('\\n'))\n",
    "\n",
    "    # Write the scraped content to a file\n",
    "    with open(filename, 'w', encoding='utf-8') as file:\n",
    "        for item in content:\n",
    "            file.write(\"%s\\n\" % item)\n",
    "    \n",
    "    return content"
   ]
  },
  {
   "cell_type": "markdown",
   "id": "6880c87d",
   "metadata": {},
   "source": [
    "<hr>\n",
    "<a class=\"anchor\" id=\"load_split\">\n",
    "    \n",
    "### 1.2. Loading and splitting texts\n",
    "    \n",
    "</a>"
   ]
  },
  {
   "cell_type": "code",
   "execution_count": 4,
   "id": "ffe7bbb8",
   "metadata": {},
   "outputs": [],
   "source": [
    "# Define a function to load documents from a file\n",
    "def load_docs(root_dir,filename):\n",
    "    # Create an empty list to hold the documents\n",
    "    docs = []\n",
    "    try:\n",
    "        # Load the file using the TextLoader class and UTF-8 encoding\n",
    "        loader = TextLoader(os.path.join(\n",
    "            root_dir, filename), encoding='utf-8')\n",
    "        # Split the loaded file into separate documents and add them to the list of documents\n",
    "        docs.extend(loader.load_and_split())\n",
    "    except Exception as e:\n",
    "        # If an error occurs during loading, ignore it and return an empty list of documents\n",
    "        pass\n",
    "    # Return the list of documents\n",
    "    return docs\n",
    "  \n",
    "    \n",
    "def split_docs(docs):\n",
    "    text_splitter = CharacterTextSplitter(chunk_size=1000, chunk_overlap=0)\n",
    "    return text_splitter.split_documents(docs)"
   ]
  },
  {
   "cell_type": "markdown",
   "id": "5f97c4dc",
   "metadata": {},
   "source": [
    "<hr>\n",
    "<a class=\"anchor\" id=\"storing\">\n",
    "    \n",
    "## 2. Embedding and storing in Deep Lake\n",
    "    \n",
    "</a>"
   ]
  },
  {
   "cell_type": "code",
   "execution_count": 5,
   "id": "9bda83fc",
   "metadata": {},
   "outputs": [
    {
     "name": "stdout",
     "output_type": "stream",
     "text": [
      "loading content for /docs/huggingface_hub/guides/overview\n",
      "loading content for /docs/huggingface_hub/guides/download\n",
      "loading content for /docs/huggingface_hub/guides/upload\n",
      "loading content for /docs/huggingface_hub/guides/hf_file_system\n",
      "loading content for /docs/huggingface_hub/guides/repository\n",
      "loading content for /docs/huggingface_hub/guides/search\n"
     ]
    }
   ],
   "source": [
    "# Set the root directory where the content file will be saved\n",
    "root_dir ='../data/'\n",
    "# Set the name of the file to which the scraped content will be saved\n",
    "filename = 'voice_assistant_content.txt'\n",
    "filepath = root_dir+filename\n",
    "\n",
    "relative_urls = get_documentation_urls()\n",
    "    \n",
    "# Scrape all the content from the relative URLs and save it to the content file\n",
    "base_url = 'https://huggingface.co'\n",
    "content = scrape_all_content(base_url, relative_urls, filepath)"
   ]
  },
  {
   "cell_type": "code",
   "execution_count": 6,
   "id": "f16182cc",
   "metadata": {},
   "outputs": [
    {
     "name": "stderr",
     "output_type": "stream",
     "text": [
      "Using embedding function is deprecated and will be removed in the future. Please use embedding instead.\n"
     ]
    },
    {
     "name": "stdout",
     "output_type": "stream",
     "text": [
      "Your Deep Lake dataset has been successfully created!\n"
     ]
    },
    {
     "name": "stderr",
     "output_type": "stream",
     "text": [
      "/"
     ]
    },
    {
     "name": "stdout",
     "output_type": "stream",
     "text": [
      "Dataset(path='hub://iryna/voice_assistant_data', tensors=['embedding', 'id', 'metadata', 'text'])\n",
      "\n",
      "  tensor      htype      shape      dtype  compression\n",
      "  -------    -------    -------    -------  ------- \n",
      " embedding  embedding  (18, 1536)  float32   None   \n",
      "    id        text      (18, 1)      str     None   \n",
      " metadata     json      (18, 1)      str     None   \n",
      "   text       text      (18, 1)      str     None   \n"
     ]
    },
    {
     "name": "stderr",
     "output_type": "stream",
     "text": [
      "\r",
      " \r"
     ]
    }
   ],
   "source": [
    "# Load the content from the file\n",
    "docs = load_docs(root_dir, filepath)\n",
    "\n",
    "# Split the content into individual documents\n",
    "texts = split_docs(docs)\n",
    "    \n",
    "# Create a DeepLake database with the given dataset path and embedding function\n",
    "db = DeepLake(dataset_path=dataset_path, embedding_function=embeddings)\n",
    "# Add the individual documents to the database\n",
    "db.add_documents(texts)\n",
    "    \n",
    "# Clean up by deleting the content file\n",
    "os.remove(filepath)"
   ]
  },
  {
   "cell_type": "markdown",
   "id": "d017f163",
   "metadata": {},
   "source": [
    "<hr>\n",
    "<a class=\"anchor\" id=\"assistant\">\n",
    "    \n",
    "## 3. Voice Assistant\n",
    "    \n",
    "</a>"
   ]
  },
  {
   "cell_type": "markdown",
   "id": "3c613e64",
   "metadata": {},
   "source": [
    "Once all the necessary data is stored in the vector database in DeepLake, we can utilize this data in our chatbot."
   ]
  },
  {
   "cell_type": "code",
   "execution_count": 13,
   "id": "7b2eb863",
   "metadata": {},
   "outputs": [],
   "source": [
    "import openai\n",
    "import streamlit as st\n",
    "from audio_recorder_streamlit import audio_recorder\n",
    "from elevenlabs import generate\n",
    "from langchain.chains import RetrievalQA\n",
    "from langchain.chat_models import ChatOpenAI\n",
    "from langchain.embeddings.openai import OpenAIEmbeddings\n",
    "from langchain.vectorstores import DeepLake\n",
    "from streamlit_chat import message\n",
    "\n",
    "# Constants\n",
    "TEMP_AUDIO_PATH = \"../data/temp_audio.wav\"\n",
    "AUDIO_FORMAT = \"audio/wav\""
   ]
  },
  {
   "cell_type": "code",
   "execution_count": 14,
   "id": "f30f311d",
   "metadata": {},
   "outputs": [],
   "source": [
    "# Function to create an instance of the DeepLake vector database\n",
    "def load_embeddings_and_database(active_loop_data_set_path):\n",
    "    embeddings = OpenAIEmbeddings()\n",
    "    db = DeepLake(\n",
    "        dataset_path=active_loop_data_set_path,\n",
    "        read_only=True,\n",
    "        embedding_function=embeddings\n",
    "    )\n",
    "    return db"
   ]
  },
  {
   "cell_type": "code",
   "execution_count": 15,
   "id": "c6a808a6",
   "metadata": {},
   "outputs": [],
   "source": [
    "# Transcribe audio using OpenAI Whisper API\n",
    "def transcribe_audio(audio_file_path, openai_key):\n",
    "    openai.api_key = openai_key\n",
    "    try:\n",
    "        with open(audio_file_path, \"rb\") as audio_file:\n",
    "            response = openai.Audio.transcribe(\"whisper-1\", audio_file)\n",
    "        return response[\"text\"]\n",
    "    except Exception as e:\n",
    "        print(f\"Error calling Whisper API: {str(e)}\")\n",
    "        return None"
   ]
  },
  {
   "cell_type": "code",
   "execution_count": 16,
   "id": "ecfe2ef2",
   "metadata": {},
   "outputs": [],
   "source": [
    "# Record audio using audio_recorder and transcribe using transcribe_audio\n",
    "def record_and_transcribe_audio():\n",
    "    audio_bytes = audio_recorder()\n",
    "    transcription = None\n",
    "    if audio_bytes:\n",
    "        st.audio(audio_bytes, format=AUDIO_FORMAT)\n",
    "\n",
    "        with open(TEMP_AUDIO_PATH, \"wb\") as f:\n",
    "            f.write(audio_bytes)\n",
    "\n",
    "        if st.button(\"Transcribe\"):\n",
    "            transcription = transcribe_audio(TEMP_AUDIO_PATH, openai.api_key)\n",
    "            os.remove(TEMP_AUDIO_PATH)\n",
    "            display_transcription(transcription)\n",
    "\n",
    "    return transcription\n",
    "\n",
    "\n",
    "# Display the transcription of the audio on the app\n",
    "def display_transcription(transcription):\n",
    "    if transcription:\n",
    "        st.write(f\"Transcription: {transcription}\")\n",
    "        with open(\"audio_transcription.txt\", \"w+\") as f:\n",
    "            f.write(transcription)\n",
    "    else:\n",
    "        st.write(\"Error transcribing audio.\")\n",
    "\n",
    "        \n",
    "# Get user input from Streamlit text input field\n",
    "def get_user_input(transcription):\n",
    "    return st.text_input(\"\", value=transcription if transcription else \"\", key=\"input\")"
   ]
  },
  {
   "cell_type": "code",
   "execution_count": 17,
   "id": "015dbd70",
   "metadata": {},
   "outputs": [],
   "source": [
    "# Search the database for a response based on the user's query\n",
    "def search_db(user_input, db):\n",
    "    print(user_input)\n",
    "    retriever = db.as_retriever()\n",
    "    retriever.search_kwargs['distance_metric'] = 'cos'\n",
    "    retriever.search_kwargs['fetch_k'] = 100\n",
    "    retriever.search_kwargs['maximal_marginal_relevance'] = True\n",
    "    retriever.search_kwargs['k'] = 4\n",
    "    model = ChatOpenAI(model_name='gpt-3.5-turbo')\n",
    "    qa = RetrievalQA.from_llm(model, retriever=retriever, return_source_documents=True)\n",
    "    return qa({'query': user_input})"
   ]
  },
  {
   "cell_type": "code",
   "execution_count": 18,
   "id": "564d6000",
   "metadata": {},
   "outputs": [],
   "source": [
    "# Display conversation history using Streamlit messages\n",
    "def display_conversation(history):\n",
    "    for i in range(len(history[\"generated\"])):\n",
    "        message(history[\"past\"][i], is_user=True, key=str(i) + \"_user\")\n",
    "        message(history[\"generated\"][i],key=str(i))\n",
    "        \n",
    "        #Voice using Eleven API\n",
    "        voice= \"Bella\"\n",
    "        text= history[\"generated\"][i]\n",
    "        audio = generate(text=text, voice=voice,api_key=eleven_api_key)\n",
    "        st.audio(audio, format='audio/mp3')"
   ]
  },
  {
   "cell_type": "markdown",
   "id": "4564e2b0",
   "metadata": {},
   "source": [
    "<hr>\n",
    "<a class=\"anchor\" id=\"interaction\">\n",
    "    \n",
    "## 4. User Interaction\n",
    "    \n",
    "</a>"
   ]
  },
  {
   "cell_type": "code",
   "execution_count": null,
   "id": "306de68e",
   "metadata": {},
   "outputs": [],
   "source": [
    "# Main function to run the app\n",
    "def main():\n",
    "    # Initialize Streamlit app with a title\n",
    "    st.write(\"# JarvisBase 🧙\")\n",
    "   \n",
    "    # Load embeddings and the DeepLake database\n",
    "    db = load_embeddings_and_database(dataset_path)\n",
    "\n",
    "    # Record and transcribe audio\n",
    "    transcription = record_and_transcribe_audio()\n",
    "\n",
    "    # Get user input from text input or audio transcription\n",
    "    user_input = get_user_input(transcription)\n",
    "\n",
    "    # Initialize session state for generated responses and past messages\n",
    "    if \"generated\" not in st.session_state:\n",
    "        st.session_state[\"generated\"] = [\"I am ready to help you\"]\n",
    "    if \"past\" not in st.session_state:\n",
    "        st.session_state[\"past\"] = [\"Hey there!\"]\n",
    "        \n",
    "    # Search the database for a response based on user input and update the session state\n",
    "    if user_input:\n",
    "        output = search_db(user_input, db)\n",
    "        print(output['source_documents'])\n",
    "        st.session_state.past.append(user_input)\n",
    "        response = str(output[\"result\"])\n",
    "        st.session_state.generated.append(response)\n",
    "\n",
    "    #Display conversation history using Streamlit messages\n",
    "    if st.session_state[\"generated\"]:\n",
    "        display_conversation(st.session_state)\n",
    "\n",
    "# Run the main function when the script is executed\n",
    "if __name__ == \"__main__\":\n",
    "    main()"
   ]
  },
  {
   "cell_type": "markdown",
   "id": "48cb787f",
   "metadata": {},
   "source": [
    "- [Eleven Labs Website](https://elevenlabs.io/)\n",
    "- [Eleven Labs API documentation](https://api.elevenlabs.io/docs)\n",
    "- [Voice Assitant GitHub Repo](https://github.com/peterw/JarvisBase)"
   ]
  },
  {
   "cell_type": "code",
   "execution_count": null,
   "id": "b7c03319",
   "metadata": {},
   "outputs": [],
   "source": []
  }
 ],
 "metadata": {
  "kernelspec": {
   "display_name": "langenv",
   "language": "python",
   "name": "langenv"
  },
  "language_info": {
   "codemirror_mode": {
    "name": "ipython",
    "version": 3
   },
   "file_extension": ".py",
   "mimetype": "text/x-python",
   "name": "python",
   "nbconvert_exporter": "python",
   "pygments_lexer": "ipython3",
   "version": "3.10.4"
  }
 },
 "nbformat": 4,
 "nbformat_minor": 5
}
