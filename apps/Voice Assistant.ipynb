{
 "cells": [
  {
   "cell_type": "markdown",
   "id": "f1790f12",
   "metadata": {},
   "source": [
    "# Creating a Voice Assistant for a Knowledge Base\n",
    "\n",
    "* [1. Prompt use case](#prompt)\n",
    "* [2. Summarization chain example](#summarization)\n",
    "* [3. QA chain example](#qa)\n",
    "\n",
    "The main purpose here is to create a voice assistant that can efficiently navigate a knowledge base, providing precise and timely responses to a user's queries.\n",
    "\n",
    "Inspiration taken from: [github repo](https://github.com/peterw/JarvisBase)"
   ]
  },
  {
   "cell_type": "code",
   "execution_count": 1,
   "id": "98da2a6b",
   "metadata": {},
   "outputs": [],
   "source": [
    "import sys, os\n",
    "sys.path.append('..')\n",
    "\n",
    "from keys import OPENAI_API_KEY, ACTIVELOOP_TOKEN, ELEVEN_API_KEY\n",
    "os.environ[\"OPENAI_API_KEY\"] = OPENAI_API_KEY\n",
    "os.environ[\"ACTIVELOOP_TOKEN\"] = ACTIVELOOP_TOKEN\n",
    "os.environ[\"ELEVEN_API_KEY\"] = ELEVEN_API_KEY"
   ]
  },
  {
   "cell_type": "markdown",
   "id": "4d5bfc2d",
   "metadata": {},
   "source": [
    "Main stages:\n",
    "1. Transcribe voice inputs into text - automatic speech recognition (ASR) using OpenAI's Whisper.\n",
    "2. Generating response to the question:\n",
    "    - loading the vector database, a repository housing relevant documents\n",
    "    - retrieve the documents and feed them along with question to LLM\n",
    "    - LLM then generates the response based on retrieved documents\n",
    "3. Generating voice outputs - employ Eleven Labs."
   ]
  },
  {
   "cell_type": "markdown",
   "id": "2b1d6c3b",
   "metadata": {},
   "source": [
    "<hr>\n",
    "<a class=\"anchor\" id=\"sourcing\">\n",
    "    \n",
    "## 1. Sourcing Content from Hugging Face Hub\n",
    "    \n",
    "</a>\n",
    "\n",
    "The knowledge base for our voice assistant will be created by the articles from the Hugging Face Hub. We'll do some web scraping in order to collect the documents documents."
   ]
  },
  {
   "cell_type": "code",
   "execution_count": 2,
   "id": "ef350693",
   "metadata": {},
   "outputs": [],
   "source": [
    "# Import necessary modules\n",
    "import os\n",
    "import requests\n",
    "from bs4 import BeautifulSoup\n",
    "from langchain.embeddings.openai import OpenAIEmbeddings\n",
    "from langchain.vectorstores import DeepLake\n",
    "from langchain.text_splitter import CharacterTextSplitter\n",
    "from langchain.document_loaders import TextLoader\n",
    "import re\n",
    "\n",
    "# Set up the path for DeepLake (a vector database)\n",
    "my_activeloop_org_id = \"iryna\"\n",
    "my_activeloop_dataset_name = \"langchain_course_jarvis_assistant\"\n",
    "dataset_path = 'hub://{active_loop_username}/{dataset_name}'\n",
    "\n",
    "# Set up an OpenAIEmbeddings instance\n",
    "model_params = {\n",
    "    \"model_name\": \"text-embedding-ada-002\",\n",
    "}\n",
    "embeddings =  OpenAIEmbeddings(model_kwargs=model_params)"
   ]
  },
  {
   "cell_type": "markdown",
   "id": "cb9a021d",
   "metadata": {},
   "source": [
    "<hr>\n",
    "<a class=\"anchor\" id=\"scrape\">\n",
    "    \n",
    "### 1.1. Scrape content\n",
    "    \n",
    "</a>"
   ]
  },
  {
   "cell_type": "code",
   "execution_count": 4,
   "id": "dcfe0190",
   "metadata": {},
   "outputs": [],
   "source": [
    "def get_documentation_urls():\n",
    "    # List of relative URLs for the desired Hugging Face documentation pages\n",
    "    return [\n",
    "        '/docs/huggingface_hub/guides/overview',\n",
    "        '/docs/huggingface_hub/guides/download',\n",
    "        '/docs/huggingface_hub/guides/upload',\n",
    "        '/docs/huggingface_hub/guides/hf_file_system',\n",
    "        '/docs/huggingface_hub/guides/repository',\n",
    "        '/docs/huggingface_hub/guides/search',\n",
    "    ]\n",
    "\n",
    "\n",
    "def construct_full_url(base_url, relative_url):\n",
    "    # Construct the full URL by appending the relative URL to the base URL\n",
    "    return base_url + relative_url\n",
    "\n",
    "\n",
    "def scrape_page_content(url):\n",
    "    # Send a GET request to the URL and parse the HTML response using BeautifulSoup\n",
    "    response = requests.get(url)\n",
    "    soup = BeautifulSoup(response.text, 'html.parser')\n",
    "    # Extract the desired content from the page (in this case, the body text)\n",
    "    text=soup.body.text.strip()\n",
    "    # Remove non-ASCII characters\n",
    "    text = re.sub(r'[\\x00-\\x08\\x0b-\\x0c\\x0e-\\x1f\\x7f-\\xff]', '', text)\n",
    "    # Remove extra whitespace and newlines\n",
    "    text = re.sub(r'\\s+', ' ', text)\n",
    "    return text.strip()\n",
    "\n",
    "\n",
    "def scrape_all_content(base_url, relative_urls, filename):\n",
    "    # Loop through the list of URLs, scrape content and add it to the content list\n",
    "    content = []\n",
    "    for relative_url in relative_urls:\n",
    "        full_url = construct_full_url(base_url, relative_url)\n",
    "        scraped_content = scrape_page_content(full_url)\n",
    "        content.append(scraped_content.rstrip('\\n'))\n",
    "\n",
    "    # Write the scraped content to a file\n",
    "    with open(filename, 'w', encoding='utf-8') as file:\n",
    "        for item in content:\n",
    "            file.write(\"%s\\n\" % item)\n",
    "    \n",
    "    return content"
   ]
  },
  {
   "cell_type": "markdown",
   "id": "e033f459",
   "metadata": {},
   "source": [
    "<hr>\n",
    "<a class=\"anchor\" id=\"load_split\">\n",
    "    \n",
    "### 1.2. Loading and splitting texts\n",
    "    \n",
    "</a>"
   ]
  },
  {
   "cell_type": "code",
   "execution_count": 6,
   "id": "84d95e4e",
   "metadata": {},
   "outputs": [],
   "source": [
    "# Define a function to load documents from a file\n",
    "def load_docs(root_dir,filename):\n",
    "    # Create an empty list to hold the documents\n",
    "    docs = []\n",
    "    try:\n",
    "        # Load the file using the TextLoader class and UTF-8 encoding\n",
    "        loader = TextLoader(os.path.join(\n",
    "            root_dir, filename), encoding='utf-8')\n",
    "        # Split the loaded file into separate documents and add them to the list of documents\n",
    "        docs.extend(loader.load_and_split())\n",
    "    except Exception as e:\n",
    "        # If an error occurs during loading, ignore it and return an empty list of documents\n",
    "        pass\n",
    "    # Return the list of documents\n",
    "    return docs\n",
    "  \n",
    "    \n",
    "def split_docs(docs):\n",
    "    text_splitter = CharacterTextSplitter(chunk_size=1000, chunk_overlap=0)\n",
    "    return text_splitter.split_documents(docs)"
   ]
  },
  {
   "cell_type": "markdown",
   "id": "5029d359",
   "metadata": {},
   "source": [
    "<hr>\n",
    "<a class=\"anchor\" id=\"storing\">\n",
    "    \n",
    "## 2. Embedding and storing in Deep Lake\n",
    "    \n",
    "</a>"
   ]
  },
  {
   "cell_type": "code",
   "execution_count": null,
   "id": "141c2f0f",
   "metadata": {},
   "outputs": [],
   "source": []
  },
  {
   "cell_type": "markdown",
   "id": "987b9d03",
   "metadata": {},
   "source": [
    "- [Eleven Labs Website](https://elevenlabs.io/)\n",
    "- [Eleven Labs API documentation](https://api.elevenlabs.io/docs)"
   ]
  },
  {
   "cell_type": "code",
   "execution_count": null,
   "id": "12b51444",
   "metadata": {},
   "outputs": [],
   "source": []
  }
 ],
 "metadata": {
  "kernelspec": {
   "display_name": "langenv",
   "language": "python",
   "name": "langenv"
  },
  "language_info": {
   "codemirror_mode": {
    "name": "ipython",
    "version": 3
   },
   "file_extension": ".py",
   "mimetype": "text/x-python",
   "name": "python",
   "nbconvert_exporter": "python",
   "pygments_lexer": "ipython3",
   "version": "3.10.4"
  }
 },
 "nbformat": 4,
 "nbformat_minor": 5
}
