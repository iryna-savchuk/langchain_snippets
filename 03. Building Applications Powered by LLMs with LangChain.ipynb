{
 "cells": [
  {
   "cell_type": "markdown",
   "id": "93500e10",
   "metadata": {},
   "source": [
    "# Building Applications Powered by LLMs with LangChain\n",
    "\n",
    "LangChain simplifies the development of end-to-end applications using language models. It provides tools, components, and interfaces for creating applications powered by large language models and chat models. With LangChain, developers can easily manage interactions with language models, connect multiple components, and integrate APIs and databases.\n",
    "\n",
    "* [1. Prompt use case](#prompt)\n",
    "* [2. Summarization chain example](#summarization)\n",
    "* [3. QA chain example](#qa)\n",
    "* [4. Conversational Capabilities](#conversation)"
   ]
  },
  {
   "cell_type": "code",
   "execution_count": 1,
   "id": "9c11d205",
   "metadata": {},
   "outputs": [],
   "source": [
    "import os\n",
    "from keys import OPENAI_API_KEY\n",
    "os.environ[\"OPENAI_API_KEY\"] = OPENAI_API_KEY"
   ]
  },
  {
   "cell_type": "markdown",
   "id": "6a387755",
   "metadata": {},
   "source": [
    "<hr>\n",
    "<a class=\"anchor\" id=\"prompt\">\n",
    "    \n",
    "## 1. Prompt use case\n",
    "    \n",
    "</a>"
   ]
  },
  {
   "cell_type": "markdown",
   "id": "8ea2a856",
   "metadata": {},
   "source": [
    "A key feature of LangChain is its support for prompts. \n",
    "\n",
    "`ChatPromptTemplate` is used to create a structured conversation with the AI model, making it easier to manage the flow and content of the conversation.\n",
    "\n",
    "`SystemMessagePromptTemplate` provides initial instructions, context, or data for the AI model, while `HumanMessagePromptTemplate` are messages from the user that the AI model responds to."
   ]
  },
  {
   "cell_type": "code",
   "execution_count": 2,
   "id": "c2f593ea",
   "metadata": {},
   "outputs": [
    {
     "name": "stdout",
     "output_type": "stream",
     "text": [
      "\"Inception\" is a science fiction action film directed by Christopher Nolan. It was released in 2010 and stars Leonardo DiCaprio, Joseph Gordon-Levitt, Ellen Page, Tom Hardy, and Marion Cotillard. The film follows a professional thief who steals information by infiltrating the subconscious of his targets through their dreams. \n",
      "\n",
      "The story revolves around Dom Cobb (played by DiCaprio), who is offered a chance to have his criminal history erased in exchange for performing the act of \"inception\" - planting an idea in someone's mind rather than stealing it. As Cobb and his team navigate through various dream levels, they encounter unexpected challenges and face the consequences of their actions.\n",
      "\n",
      "\"Inception\" received critical acclaim for its originality, visual effects, and thought-provoking narrative. It was praised for its complex storytelling and exploration of themes such as reality, memory, and the power of the mind. The film was a commercial success, grossing over $828 million worldwide.\n",
      "\n",
      "If you are interested in watching \"Inception,\" it is available on various streaming platforms and can be rented or purchased on digital platforms.\n"
     ]
    }
   ],
   "source": [
    "from langchain.chat_models import ChatOpenAI\n",
    "from langchain.prompts.chat import (ChatPromptTemplate,\n",
    "                                    SystemMessagePromptTemplate,\n",
    "                                    HumanMessagePromptTemplate,\n",
    "                                   )\n",
    "\n",
    "chat = ChatOpenAI(model_name=\"gpt-3.5-turbo\", temperature=0)\n",
    "\n",
    "template = \"You are an assistant that helps users find information about movies.\"\n",
    "system_message_prompt = SystemMessagePromptTemplate.from_template(template)\n",
    "human_template = \"Find information about the movie {movie_title}.\"\n",
    "human_message_prompt = HumanMessagePromptTemplate.from_template(human_template)\n",
    "\n",
    "chat_prompt = ChatPromptTemplate.from_messages([system_message_prompt, human_message_prompt])\n",
    "\n",
    "response = chat(chat_prompt.format_prompt(movie_title=\"Inception\").to_messages())\n",
    "\n",
    "print(response.content)"
   ]
  },
  {
   "cell_type": "markdown",
   "id": "4cd2ceec",
   "metadata": {},
   "source": [
    "<hr>\n",
    "<a class=\"anchor\" id=\"summarization\">\n",
    "    \n",
    "## 2. Summarization chain example\n",
    "    \n",
    "</a>"
   ]
  },
  {
   "cell_type": "markdown",
   "id": "3e8ab526",
   "metadata": {},
   "source": [
    "When creating a summarization chain, LangChain enables interaction with an external data source to fetch data for use in the generation step. This could involve summarizing a lengthy piece of text or answering questions using specific data sources."
   ]
  },
  {
   "cell_type": "code",
   "execution_count": 5,
   "id": "97c891d7",
   "metadata": {},
   "outputs": [
    {
     "name": "stdout",
     "output_type": "stream",
     "text": [
      "Collecting pypdf\n",
      "  Downloading pypdf-3.11.1-py3-none-any.whl (257 kB)\n",
      "\u001b[2K     \u001b[90m━━━━━━━━━━━━━━━━━━━━━━━━━━━━━━━━━━━━━━\u001b[0m \u001b[32m257.8/257.8 kB\u001b[0m \u001b[31m13.8 MB/s\u001b[0m eta \u001b[36m0:00:00\u001b[0m\n",
      "\u001b[?25hInstalling collected packages: pypdf\n",
      "Successfully installed pypdf-3.11.1\n"
     ]
    }
   ],
   "source": [
    "!pip install pypdf"
   ]
  },
  {
   "cell_type": "code",
   "execution_count": 6,
   "id": "4af86f38",
   "metadata": {},
   "outputs": [],
   "source": [
    "# Import necessary modules\n",
    "from langchain import OpenAI, PromptTemplate\n",
    "from langchain.chains.summarize import load_summarize_chain\n",
    "from langchain.document_loaders import PyPDFLoader # to loading PDFs and convert them into a suitable format \n",
    "\n",
    "# Initialize language model\n",
    "llm = OpenAI(model_name=\"text-davinci-003\", temperature=0)\n",
    "\n",
    "# Load the summarization chain\n",
    "summarize_chain = load_summarize_chain(llm)\n",
    "\n",
    "# Load the document using PyPDFLoader\n",
    "document_loader = PyPDFLoader(file_path=\"data/file.pdf\")\n",
    "document = document_loader.load()"
   ]
  },
  {
   "cell_type": "code",
   "execution_count": 8,
   "id": "f1e40578",
   "metadata": {},
   "outputs": [
    {
     "name": "stdout",
     "output_type": "stream",
     "text": [
      " This presentation discussed the use of Big Data in disaster management, specifically focusing on the HTwitt framework. HTwitt is a Hadoop-based platform that analyzes and visualizes streaming Twitter data. It uses Apache Hadoop, Mahout, and Apache Flume, as well as Natural Language Processing algorithms such as N-grams models, Tf-idf, Log-likelihood ratio similarity, Text normalization, and Naive Bayes Classifier. The framework was tested and the results showed that it was able to correctly classify tweets with an accuracy of 3394.2857%.\n"
     ]
    }
   ],
   "source": [
    "# Summarize the document\n",
    "summary = summarize_chain(document)\n",
    "print(summary['output_text'])"
   ]
  },
  {
   "cell_type": "markdown",
   "id": "4872b3a1",
   "metadata": {},
   "source": [
    "**Note:** In the example above, the code uses the default summarization chain provided by the load_summarize_chain function, but it is also possible to customize the summarization process by providing prompt templates."
   ]
  },
  {
   "cell_type": "markdown",
   "id": "7a33bd85",
   "metadata": {},
   "source": [
    "<hr>\n",
    "<a class=\"anchor\" id=\"qa\">\n",
    "    \n",
    "## 3. QA chain example\n",
    "    \n",
    "</a>"
   ]
  },
  {
   "cell_type": "code",
   "execution_count": 9,
   "id": "de9fdd15",
   "metadata": {},
   "outputs": [],
   "source": [
    "from langchain.prompts import PromptTemplate\n",
    "from langchain.chains import LLMChain\n",
    "from langchain.llms import OpenAI\n",
    "\n",
    "prompt = PromptTemplate(template=\"Question: {question}\\nAnswer:\", input_variables=[\"question\"])\n",
    "\n",
    "llm = OpenAI(model_name=\"text-davinci-003\", temperature=0)\n",
    "chain = LLMChain(llm=llm, prompt=prompt)"
   ]
  },
  {
   "cell_type": "code",
   "execution_count": 10,
   "id": "b979b049",
   "metadata": {},
   "outputs": [
    {
     "data": {
      "text/plain": [
       "' The meaning of life is subjective and can vary from person to person. For some, it may be to find happiness and fulfillment, while for others it may be to make a difference in the world. Ultimately, the meaning of life is up to each individual to decide.'"
      ]
     },
     "execution_count": 10,
     "metadata": {},
     "output_type": "execute_result"
    }
   ],
   "source": [
    "chain.run(\"what is the meaning of life?\")"
   ]
  },
  {
   "cell_type": "markdown",
   "id": "ea828bb4",
   "metadata": {},
   "source": [
    "**Note:** LangChain can be used to manage prompts for **extracting relevant information from documents**. With LangChain, it is possible to fetch the necessary data from external data sources (APIs or databases) to construct an accurate answer based on the information available in the document."
   ]
  },
  {
   "cell_type": "markdown",
   "id": "a1d339a8",
   "metadata": {},
   "source": [
    "<hr>\n",
    "<a class=\"anchor\" id=\"conversation\">\n",
    "    \n",
    "## 4. Conversational Capabilities\n",
    "    \n",
    "</a>"
   ]
  },
  {
   "cell_type": "markdown",
   "id": "183c6211",
   "metadata": {},
   "source": [
    "Models like GPT-4 and ChatGPT focus on the ability to maintain context in conversations. They both use the Transformers architecture and are fine-tuned to hold natural dialogue with a user.\n",
    "\n",
    "It is possible to use ChatOpenAI class to create a chat-based application that can handle user inputs and generate responses using the chosen language model. The conversation is initiated with a series of messages, including system, human, and AI messages: \n",
    "- SystemMessage: provides context for the conversation\n",
    "- HumanMessage: represents the user's message \n",
    "- AIMessage: represents the AI's message"
   ]
  },
  {
   "cell_type": "code",
   "execution_count": 2,
   "id": "83e4248e",
   "metadata": {},
   "outputs": [],
   "source": [
    "from langchain.chat_models import ChatOpenAI\n",
    "from langchain.schema import (\n",
    "    SystemMessage,\n",
    "    HumanMessage,\n",
    "    AIMessage\n",
    ")\n",
    "\n",
    "messages = [\n",
    "    SystemMessage(content=\"You are a helpful assistant.\"),\n",
    "    HumanMessage(content=\"What is the capital of France?\"),\n",
    "    AIMessage(content=\"The capital of France is Paris.\")\n",
    "]"
   ]
  },
  {
   "cell_type": "code",
   "execution_count": 3,
   "id": "062c0918",
   "metadata": {},
   "outputs": [],
   "source": [
    "# Leverage the discussion by adding “city you just mentioned”\n",
    "prompt = HumanMessage(\n",
    "    content=\"I'd like to know more about the city you just mentioned.\"\n",
    ")\n",
    "messages.append(prompt) # add to messages\n",
    "\n",
    "\n",
    "llm = ChatOpenAI(model_name=\"gpt-3.5-turbo\")\n",
    "response = llm(messages)"
   ]
  },
  {
   "cell_type": "code",
   "execution_count": 4,
   "id": "a1f1082f",
   "metadata": {},
   "outputs": [
    {
     "data": {
      "text/plain": [
       "AIMessage(content='Paris is the capital and largest city of France. It is located in the north-central part of the country, on the banks of the Seine River. Known as the \"City of Light,\" Paris is renowned for its iconic landmarks, rich history, and vibrant culture.\\n\\nOne of the most famous landmarks in Paris is the Eiffel Tower, a wrought-iron lattice tower that offers breathtaking views of the city. Other notable landmarks include the Notre-Dame Cathedral, Louvre Museum (home to the Mona Lisa), Champs-Élysées avenue, Arc de Triomphe, and the Sacré-Cœur Basilica.\\n\\nParis is also known for its world-class cuisine, with numerous Michelin-starred restaurants, charming cafés, and patisseries offering delicious pastries. The city is famous for its fashion and shopping scene, with renowned luxury brands and designer boutiques found along the stylish streets of Rue du Faubourg Saint-Honoré and Avenue Montaigne.\\n\\nThe city is divided into 20 arrondissements (districts) that spiral out from the center. Each arrondissement has its own unique character and attractions. Paris is also home to numerous museums, art galleries, and theaters, making it a hub for art and culture.\\n\\nParis is a global center for education, business, and diplomacy. It is home to several prestigious universities, including the Sorbonne, and serves as the headquarters for many international organizations such as UNESCO and the OECD.\\n\\nThe city\\'s efficient public transportation system, including the metro, buses, and trains, makes it easy to navigate and explore all that Paris has to offer.\\n\\nOverall, Paris is a city that combines historical charm with a modern and cosmopolitan atmosphere, making it a top destination for travelers from around the world.', additional_kwargs={}, example=False)"
      ]
     },
     "execution_count": 4,
     "metadata": {},
     "output_type": "execute_result"
    }
   ],
   "source": [
    "response"
   ]
  },
  {
   "cell_type": "code",
   "execution_count": null,
   "id": "9ab7f727",
   "metadata": {},
   "outputs": [],
   "source": []
  }
 ],
 "metadata": {
  "kernelspec": {
   "display_name": "langenv",
   "language": "python",
   "name": "langenv"
  },
  "language_info": {
   "codemirror_mode": {
    "name": "ipython",
    "version": 3
   },
   "file_extension": ".py",
   "mimetype": "text/x-python",
   "name": "python",
   "nbconvert_exporter": "python",
   "pygments_lexer": "ipython3",
   "version": "3.10.4"
  }
 },
 "nbformat": 4,
 "nbformat_minor": 5
}
