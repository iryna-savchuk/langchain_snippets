{
 "cells": [
  {
   "cell_type": "markdown",
   "id": "f1790f12",
   "metadata": {},
   "source": [
    "# Agents\n",
    "\n",
    "The agents are intelligent entities and components interacting with the language model and other tools to fulfill a task. They have the capability to select the appropriate tools from a given list or formulate a plan and incorporate suitable tools at each step to get the job done. \n",
    "\n",
    "* [1. What are Agents](#what)\n",
    "* [2. Autonomous Agents (AutoGPT and BabyAGI)](#autonomous)\n",
    "* [3. Using AutoGPT with LangChain](#AutoGPT)\n",
    "* [4. Agent Simulation Projects: CAMEL and Generative Agents](#simulation)\n",
    "* [5. \"Plan and Execute\" framework](#plan_and_execute)\n",
    "* [6. Current Insights and Trends of Agents](#curr)"
   ]
  },
  {
   "cell_type": "code",
   "execution_count": 2,
   "id": "98da2a6b",
   "metadata": {},
   "outputs": [],
   "source": [
    "import os\n",
    "from keys import OPENAI_API_KEY\n",
    "os.environ[\"OPENAI_API_KEY\"] = OPENAI_API_KEY"
   ]
  },
  {
   "cell_type": "markdown",
   "id": "2b1d6c3b",
   "metadata": {},
   "source": [
    "<hr>\n",
    "<a class=\"anchor\" id=\"what\">\n",
    "    \n",
    "## 1. What are Agents\n",
    "    \n",
    "</a>"
   ]
  },
  {
   "cell_type": "code",
   "execution_count": null,
   "id": "ef350693",
   "metadata": {},
   "outputs": [],
   "source": []
  },
  {
   "cell_type": "markdown",
   "id": "69f2d2e7",
   "metadata": {},
   "source": [
    "<hr>\n",
    "<a class=\"anchor\" id=\"autonomous\">\n",
    "    \n",
    "## 2. Autonomous Agents (AutoGPT and BabyAGI)\n",
    "    \n",
    "</a>"
   ]
  },
  {
   "cell_type": "code",
   "execution_count": null,
   "id": "7532f110",
   "metadata": {},
   "outputs": [],
   "source": []
  },
  {
   "cell_type": "markdown",
   "id": "dcee3f99",
   "metadata": {},
   "source": [
    "<hr>\n",
    "<a class=\"anchor\" id=\"AutoGPT\">\n",
    "    \n",
    "## 3. Using AutoGPT with LangChain\n",
    "    \n",
    "</a>"
   ]
  },
  {
   "cell_type": "code",
   "execution_count": null,
   "id": "e6e104fb",
   "metadata": {},
   "outputs": [],
   "source": []
  },
  {
   "cell_type": "markdown",
   "id": "efc02af5",
   "metadata": {},
   "source": [
    "<hr>\n",
    "<a class=\"anchor\" id=\"simulation\">\n",
    "    \n",
    "## 4. Agent Simulation Projects: CAMEL and Generative Agents\n",
    "    \n",
    "</a>"
   ]
  },
  {
   "cell_type": "code",
   "execution_count": null,
   "id": "178df276",
   "metadata": {},
   "outputs": [],
   "source": []
  },
  {
   "cell_type": "markdown",
   "id": "dad87b70",
   "metadata": {},
   "source": [
    "<hr>\n",
    "<a class=\"anchor\" id=\"plan_and_execute\">\n",
    "    \n",
    "## 5. \"Plan and Execute\" framework\n",
    "    \n",
    "</a>"
   ]
  },
  {
   "cell_type": "code",
   "execution_count": null,
   "id": "bb3d518d",
   "metadata": {},
   "outputs": [],
   "source": []
  },
  {
   "cell_type": "markdown",
   "id": "8aec12ed",
   "metadata": {},
   "source": [
    "<hr>\n",
    "<a class=\"anchor\" id=\"curr\">\n",
    "    \n",
    "## 6. Current Insights and Trends of Agents\n",
    "    \n",
    "</a>"
   ]
  },
  {
   "cell_type": "code",
   "execution_count": null,
   "id": "e525a75c",
   "metadata": {},
   "outputs": [],
   "source": []
  }
 ],
 "metadata": {
  "kernelspec": {
   "display_name": "langenv",
   "language": "python",
   "name": "langenv"
  },
  "language_info": {
   "codemirror_mode": {
    "name": "ipython",
    "version": 3
   },
   "file_extension": ".py",
   "mimetype": "text/x-python",
   "name": "python",
   "nbconvert_exporter": "python",
   "pygments_lexer": "ipython3",
   "version": "3.10.4"
  }
 },
 "nbformat": 4,
 "nbformat_minor": 5
}
